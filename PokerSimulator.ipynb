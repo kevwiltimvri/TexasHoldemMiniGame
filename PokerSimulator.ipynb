{
 "cells": [
  {
   "cell_type": "markdown",
   "metadata": {},
   "source": [
    "# Python Programming Challenge\n",
    "\n",
    "## Poker Hand\n",
    "\n",
    "In this challenge, we have to determine which kind of Poker combination is present in a deck of 5 cards. Every card is a string containing the card value **with the upper-case initial for face-cards** and the **lower-case initial for the suit**, as seen in the examples below:\n",
    "\n",
    "> \"Ah\" ➞ Ace of hearts <br>\n",
    "> \"Ks\" ➞ King of spades<br>\n",
    "> \"3d\" ➞ Three of diamonds<br>\n",
    "> \"Qc\" ➞ Queen of clubs <br>\n",
    "\n",
    "There are 10 different combinations. Here's the list, in descending order of importance:"
   ]
  },
  {
   "cell_type": "markdown",
   "metadata": {},
   "source": [
    "| Name            | Description                                         |\n",
    "|-----------------|-----------------------------------------------------|\n",
    "| Royal Flush     | A, K, Q, J, 10, all with the same suit.             |\n",
    "| Straight Flush  | Five cards in sequence, all with the same suit.     |\n",
    "| Four of a Kind  | Four cards of the same rank.                        |\n",
    "| Full House      | Three of a Kind with a Pair.                        |\n",
    "| Flush           | Any five cards of the same suit, not in sequence    |\n",
    "| Straight        | Five cards in a sequence, but not of the same suit. |\n",
    "| Three of a Kind | Three cards of the same rank.                       |\n",
    "| Two Pair        | Two different Pairs.                                |\n",
    "| Pair            | Two cards of the same rank.                         |\n",
    "| High Card       | No other valid combination.                         |\n",
    "\n",
    "---------"
   ]
  },
  {
   "cell_type": "markdown",
   "metadata": {},
   "source": [
    "#### 1. Given a list `hand` containing five strings being the cards. Implement a function called `poker_hand_ranking` that **returns a string with the name of the highest combination obtained.** According to the table above.\n",
    "\n",
    "**Examples:**\n",
    "\n",
    "> poker_hand_ranking([\"10h\", \"Jh\", \"Qh\", \"Ah\", \"Kh\"]) ➞ \"Royal Flush\"<br>\n",
    "> poker_hand_ranking([\"3h\", \"5h\", \"Qs\", \"9h\", \"Ad\"]) ➞ \"High Card\"<br>\n",
    "> poker_hand_ranking([\"10s\", \"10c\", \"8d\", \"10d\", \"10h\"]) ➞ \"Four of a Kind\"<br>"
   ]
  },
  {
   "cell_type": "code",
   "execution_count": 1,
   "metadata": {},
   "outputs": [],
   "source": [
    "from collections import Counter"
   ]
  },
  {
   "cell_type": "code",
   "execution_count": 2,
   "metadata": {},
   "outputs": [
    {
     "name": "stdout",
     "output_type": "stream",
     "text": [
      "[(10, 3), (9, 2)]\n",
      "4\n"
     ]
    }
   ],
   "source": [
    "#this function produces a list of tuples, the first item of each tuple being a card value, and the second item being the number of times that value occurs in the given hand\n",
    "\n",
    "def countnumbers(hand):\n",
    "    numbers = []\n",
    "    for i in hand:\n",
    "        numbers.append(i[:-1])\n",
    "    for i in range(len(numbers)):\n",
    "        if numbers[i] == 'J':\n",
    "            numbers[i] = '11'\n",
    "        elif numbers[i] == 'Q':\n",
    "            numbers[i] = '12'\n",
    "        elif numbers[i] == 'K':\n",
    "            numbers[i] = '13'\n",
    "        elif numbers[i] == 'A':\n",
    "            numbers[i] = '14'\n",
    "    for i in range(len(numbers)):\n",
    "        numbers[i] = int(numbers[i])\n",
    "    numbers.sort(reverse = False)\n",
    "    x = Counter(numbers)\n",
    "    return Counter.most_common(x)\n",
    "  \n",
    "    \n",
    "\n",
    "print(countnumbers([\"10s\", \"9c\", \"9d\", \"10d\", \"10h\"]))  \n",
    "\n",
    "print(countnumbers([\"10s\", \"10c\", \"8d\", \"10d\", \"10h\"])[0][1])"
   ]
  },
  {
   "cell_type": "code",
   "execution_count": 3,
   "metadata": {},
   "outputs": [
    {
     "data": {
      "text/plain": [
       "False"
      ]
     },
     "execution_count": 3,
     "metadata": {},
     "output_type": "execute_result"
    }
   ],
   "source": [
    "#this function determines if the hand is a 'straight'\n",
    "\n",
    "def straightcheck(hand):\n",
    "    straight = False\n",
    "    count = countnumbers(hand)\n",
    "    if count [0][1] == 1:\n",
    "        x = True\n",
    "        for i in range(len(count)-1):\n",
    "            if count[i][0] != count[i+1][0]-1:\n",
    "                x = False\n",
    "        straight = x\n",
    "    return straight\n",
    "straightcheck([\"1s\", \"2c\", \"4d\", \"6d\", \"3h\"])"
   ]
  },
  {
   "cell_type": "code",
   "execution_count": 4,
   "metadata": {},
   "outputs": [
    {
     "data": {
      "text/plain": [
       "True"
      ]
     },
     "execution_count": 4,
     "metadata": {},
     "output_type": "execute_result"
    }
   ],
   "source": [
    "#this function determines if the hand is a 'flush'\n",
    "\n",
    "def isflush(hand):\n",
    "    suitlist = []\n",
    "    for i in hand:\n",
    "        suitlist.append(i[-1])\n",
    "    x = Counter(suitlist)\n",
    "    return Counter.most_common(x)[0][1] == 5\n",
    "    #return x[hand[1][-1]] == 5\n",
    "isflush([\"10h\", \"Jh\", \"Qh\", \"Ah\", \"Kh\"])"
   ]
  },
  {
   "cell_type": "code",
   "execution_count": 5,
   "metadata": {},
   "outputs": [
    {
     "data": {
      "text/plain": [
       "['3', '3', '5', '5', '5']"
      ]
     },
     "execution_count": 5,
     "metadata": {},
     "output_type": "execute_result"
    }
   ],
   "source": [
    "#this function orders values of the cards in hand\n",
    "\n",
    "def sortnumbers(hand):\n",
    "    numbers = []\n",
    "    for i in hand:\n",
    "        numbers.append(i[0:-1])\n",
    "    for i in range(len(numbers)):\n",
    "        if numbers[i] == 'J':\n",
    "            numbers[i] = '11'\n",
    "        elif numbers[i] == 'Q':\n",
    "            numbers[i] = '12'\n",
    "        elif numbers[i] == 'K':\n",
    "            numbers[i] = '13'\n",
    "        elif numbers[i] == 'A':\n",
    "            numbers[i] = '14'\n",
    "    numbers.sort(reverse = False)\n",
    "    return numbers\n",
    "\n",
    "sortnumbers([\"3h\", \"5h\", \"5s\", \"3h\", \"5d\"])"
   ]
  },
  {
   "cell_type": "code",
   "execution_count": 6,
   "metadata": {},
   "outputs": [],
   "source": [
    "#this function determines the type of hand and assigns a 'hand value'. 10 is best(royal flush). 1 is worst(nothing)\n",
    "\n",
    "def determinehand(hand):\n",
    "    numbers = sortnumbers(hand)\n",
    "    count = countnumbers(hand)\n",
    "    straight = straightcheck(hand)\n",
    "    flush = isflush(hand)\n",
    "    if flush:\n",
    "        if straight and numbers[4] == '14':\n",
    "            return ('royal flush',10)\n",
    "        if straight:\n",
    "            return ('straight flush',9)\n",
    "    if count[0][1] == 4:\n",
    "        return ('four of a kind', 8)\n",
    "    if count[0][1] == 3 and count[1][1] == 2:\n",
    "        return ('full house',7)\n",
    "    if flush:\n",
    "        return ('flush',6)\n",
    "    if straight:\n",
    "            return ('straight',5)\n",
    "    if count[0][1] == 3:\n",
    "        return ('three of a kind',4)\n",
    "    if count[0][1] == 2 and count[1][1] == 2:\n",
    "        return ('two pair',3)\n",
    "    if count[0][1] == 2:\n",
    "        return ('pair',2)\n",
    "    else:\n",
    "        return ('nothing',1)"
   ]
  },
  {
   "cell_type": "code",
   "execution_count": 7,
   "metadata": {},
   "outputs": [
    {
     "name": "stdout",
     "output_type": "stream",
     "text": [
      "('flush', 6)\n"
     ]
    }
   ],
   "source": [
    "print(determinehand([\"10d\", \"8d\", \"9d\", \"7d\", \"4d\"]))"
   ]
  },
  {
   "cell_type": "markdown",
   "metadata": {},
   "source": [
    "------------\n",
    "### **Stretch Content**\n",
    "\n",
    "#### 2.  Implement a function `winner_is` that returns the winner given a dictionary with different players and their hands. \n",
    "**Example**\n",
    "\n",
    "We define dictionary like\n",
    "```python\n",
    "round_1 = {\"John\" = [\"10h\", \"Jh\", \"Qh\", \"Ah\", \"Kh\"], \n",
    "        \"Peter\" = [\"3h\", \"5h\", \"Qs\", \"9h\", \"Ad\"]}\n",
    "```\n",
    "\n",
    "Our function returns the name of the winner:\n",
    "> winner_is(round_1) --> \"John\"\n",
    "\n",
    "One table can have up to 10 players.\n"
   ]
  },
  {
   "cell_type": "code",
   "execution_count": 8,
   "metadata": {},
   "outputs": [
    {
     "name": "stdout",
     "output_type": "stream",
     "text": [
      "winner is John\n"
     ]
    }
   ],
   "source": [
    "#this function takes a dictionary. The keys are player names. The values are lists of the cards in hand for each player.\n",
    "\n",
    "def winner(hands):\n",
    "    for i in hands:\n",
    "        hands[i] = determinehand(hands[i])[1]\n",
    "    x = []\n",
    "    y = max(hands.values())\n",
    "    for i in hands:\n",
    "        if hands[i] == y:\n",
    "            x.append(i)\n",
    "    if len(x) == 1:\n",
    "        print('winner is', x[0])\n",
    "    else:\n",
    "        print('tie between', x)\n",
    "\n",
    "winner({\"John\" : [\"10h\", \"Jh\", \"Qh\", \"Ah\", \"Kh\"], \n",
    "        \"Peter\" : [\"3h\", \"5h\", \"Qs\", \"9h\", \"Ad\"]})"
   ]
  },
  {
   "cell_type": "code",
   "execution_count": 9,
   "metadata": {},
   "outputs": [
    {
     "name": "stdout",
     "output_type": "stream",
     "text": [
      "['10h', 'Jh', 'Qh', 'Ah', 'Kh']\n",
      "['3h', '5h', 'Qs', '9h', 'Ad']\n"
     ]
    }
   ],
   "source": [
    "round_1 = {\"John\" : [\"10h\", \"Jh\", \"Qh\", \"Ah\", \"Kh\"], \n",
    "        \"Peter\" : [\"3h\", \"5h\", \"Qs\", \"9h\", \"Ad\"]}\n",
    "for i in round_1: \n",
    "    print(round_1[i])"
   ]
  },
  {
   "cell_type": "code",
   "execution_count": null,
   "metadata": {},
   "outputs": [],
   "source": []
  },
  {
   "cell_type": "code",
   "execution_count": null,
   "metadata": {},
   "outputs": [],
   "source": []
  },
  {
   "cell_type": "markdown",
   "metadata": {},
   "source": [
    "#### 3. Create a function `distribute_cards` that randomly generates and gives 5 cards to every player given a list of player names.\n",
    "\n",
    "**Example**\n",
    "\n",
    "> distribute_cards([\"John\",\"Peter\"])  -> round_1 = {\"John\" = [\"10h\", \"Jh\", \"Qh\", \"Ah\", \"Kh\"], \n",
    "        \"Peter\" = [\"3h\", \"5h\", \"Qs\", \"9h\", \"Ad\"]\n",
    "}"
   ]
  },
  {
   "cell_type": "code",
   "execution_count": 10,
   "metadata": {},
   "outputs": [
    {
     "data": {
      "text/plain": [
       "{'kevin': ['Ad', '2h', '3d', 'Qs', 'Ks'],\n",
       " 'cha': ['6c', 'Qc', 'Jd', 'Qh', '6h']}"
      ]
     },
     "execution_count": 10,
     "metadata": {},
     "output_type": "execute_result"
    }
   ],
   "source": [
    "import random\n",
    "\n",
    "#this function takes a list of names, generates a deck, and distrubutes 5 cards to each player.\n",
    "def distribute(players):\n",
    "    deck = ['2h', '3h', '4h', '5h', '6h', '7h', '8h', '9h', '10h', 'Jh', 'Qh', 'Kh', 'Ah', '2d', '2s', '2c', '3d', '3s', '3c', '4d', '4s', '4c',\n",
    "            '5d', '5s', '5c', '6d', '6s', '6c', '7d', '7s', '7c', '8d', '8s', '8c', '9d', '9s', '9c', '10d', '10s', '10c', 'Jd', 'Js', 'Jc',\n",
    "            'Qd', 'Qs', 'Qc', 'Kd', 'Ks', 'Kc', 'Ad', 'As', 'Ac']\n",
    "    random.shuffle(deck)\n",
    "    hands = {}\n",
    "    for i in players:\n",
    "        hands[i] = deck[:5]\n",
    "        deck = deck[5:]\n",
    "    return hands\n",
    "distribute(['kevin','cha'])"
   ]
  },
  {
   "cell_type": "code",
   "execution_count": 1,
   "metadata": {},
   "outputs": [
    {
     "name": "stdout",
     "output_type": "stream",
     "text": [
      "['2h', '3h', '4h', '5h', '6h', '7h', '8h', '9h', '10h', 'Jh', 'Qh', 'Kh', 'Ah', '2d', '2s', '2c', '3d', '3s', '3c', '4d', '4s', '4c', '5d', '5s', '5c', '6d', '6s', '6c', '7d', '7s', '7c', '8d', '8s', '8c', '9d', '9s', '9c', '10d', '10s', '10c', 'Jd', 'Js', 'Jc', 'Qd', 'Qs', 'Qc', 'Kd', 'Ks', 'Kc', 'Ad', 'As', 'Ac'] 52\n",
      "['9d', '7s', '4s', 'Js', '7h', '7c', 'Qc', 'Ks', 'Ac', '5d', '10s', '2d', '8c', 'As', '3h', '2c', '3d', '10h', '10d', '5c', '6c', '6d', 'Ad', '2h', 'Jh', '5s', 'Kc', '9h', '8h', '3c', 'Ah', '2s', '7d', 'Jc', 'Kd', '6s', '9c', '10c', '6h', '9s', '5h', '8d', '4h', 'Jd', '3s', '4c', '8s', 'Kh', 'Qd', 'Qh', '4d', 'Qs']\n"
     ]
    }
   ],
   "source": [
    "import random\n",
    "#just some code I wrote because I was lazy to type out the whole deck for the above function.\n",
    "\n",
    "deck = ['2h','3h','4h','5h','6h','7h','8h','9h','10h','Jh','Qh','Kh','Ah']\n",
    "x = []\n",
    "for i in deck:\n",
    "    x.append(i[:-1] + 'd')\n",
    "    x.append(i[:-1] + 's')\n",
    "    x.append(i[:-1] + 'c')\n",
    "deck = deck + x\n",
    "print(deck, len(deck))\n",
    "random.shuffle(deck)\n",
    "print(deck)"
   ]
  },
  {
   "cell_type": "code",
   "execution_count": 12,
   "metadata": {},
   "outputs": [],
   "source": [
    "#This function takes a list of player names and simulates a poker game. It returns all players with their hands and determines the winner\n",
    "\n",
    "def simulate(players):\n",
    "    hands = distribute(players)\n",
    "    print(hands)\n",
    "    for i in hands:\n",
    "        print(i +':', determinehand(hands[i])[0])\n",
    "    winner(hands)"
   ]
  },
  {
   "cell_type": "code",
   "execution_count": 13,
   "metadata": {},
   "outputs": [
    {
     "name": "stdout",
     "output_type": "stream",
     "text": [
      "{'kevin': ['Ks', '10h', '4d', '2s', '5h'], 'cha': ['5c', '6s', '9c', '5s', '3s'], 'Andrew': ['6h', 'As', '4h', '2d', '7d'], 'Yenny': ['4s', '7s', '9d', 'Qd', '10d'], 'justin': ['2c', '8s', '7h', 'Kh', 'Jh'], 'carly': ['Js', '3d', 'Qh', 'Jc', '10s'], 'trevor': ['3c', '8h', '4c', '6d', '6c'], 'aaron': ['9h', '2h', 'Ac', 'Ad', 'Qc'], 'fizzgig': ['8d', '7c', 'Jd', '3h', '8c'], 'caboose': ['Kd', '5d', 'Kc', 'Ah', '10c']}\n",
      "kevin: nothing\n",
      "cha: pair\n",
      "Andrew: nothing\n",
      "Yenny: nothing\n",
      "justin: nothing\n",
      "carly: pair\n",
      "trevor: pair\n",
      "aaron: pair\n",
      "fizzgig: pair\n",
      "caboose: pair\n",
      "tie between ['cha', 'carly', 'trevor', 'aaron', 'fizzgig', 'caboose']\n"
     ]
    }
   ],
   "source": [
    "simulate(['kevin','cha','Andrew','Yenny','justin','carly','trevor','aaron','fizzgig','caboose'])"
   ]
  },
  {
   "cell_type": "code",
   "execution_count": null,
   "metadata": {},
   "outputs": [],
   "source": []
  }
 ],
 "metadata": {
  "kernelspec": {
   "display_name": "Python 3 (ipykernel)",
   "language": "python",
   "name": "python3"
  },
  "language_info": {
   "codemirror_mode": {
    "name": "ipython",
    "version": 3
   },
   "file_extension": ".py",
   "mimetype": "text/x-python",
   "name": "python",
   "nbconvert_exporter": "python",
   "pygments_lexer": "ipython3",
   "version": "3.8.12"
  }
 },
 "nbformat": 4,
 "nbformat_minor": 4
}
