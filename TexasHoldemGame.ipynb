{
 "cells": [
  {
   "cell_type": "code",
   "execution_count": 1,
   "id": "7757b410-f278-4fb1-9a7c-77b5a5b40e35",
   "metadata": {},
   "outputs": [
    {
     "name": "stdout",
     "output_type": "stream",
     "text": [
      "[(10, 3), (9, 2)]\n",
      "4\n"
     ]
    }
   ],
   "source": [
    "from collections import Counter\n",
    "from random import shuffle\n",
    "from random import randint\n",
    "from itertools import combinations\n",
    "\n",
    "#this function produces a list of tuples, the first item of each tuple being a card value, and the second item being the number of times that value occurs in the given hand\n",
    "\n",
    "def countnumbers(hand):\n",
    "    numbers = []\n",
    "    for i in hand:\n",
    "        numbers.append(i[:-1])\n",
    "    for i in range(len(numbers)):\n",
    "        if numbers[i] == 'J':\n",
    "            numbers[i] = '11'\n",
    "        elif numbers[i] == 'Q':\n",
    "            numbers[i] = '12'\n",
    "        elif numbers[i] == 'K':\n",
    "            numbers[i] = '13'\n",
    "        elif numbers[i] == 'A':\n",
    "            numbers[i] = '14'\n",
    "    numbers = [int(i) for i in numbers]\n",
    "    numbers.sort(reverse = False)\n",
    "    x = Counter(numbers)\n",
    "    return Counter.most_common(x)\n",
    "  \n",
    "#test code    \n",
    "\n",
    "print(countnumbers([\"10s\", \"9c\", \"9d\", \"10d\", \"10h\"]))  \n",
    "\n",
    "print(countnumbers([\"10s\", \"10c\", \"8d\", \"10d\", \"10h\"])[0][1])"
   ]
  },
  {
   "cell_type": "code",
   "execution_count": 2,
   "id": "5ebabbb0-3802-4b69-802a-f5ae24d51faf",
   "metadata": {},
   "outputs": [],
   "source": [
    "def convertnumbers(hand):\n",
    "    numbers = []\n",
    "    for i in hand:\n",
    "        numbers.append(i[:-1])\n",
    "    for i in range(len(numbers)):\n",
    "        if numbers[i] == 'J':\n",
    "            numbers[i] = '11'\n",
    "        elif numbers[i] == 'Q':\n",
    "            numbers[i] = '12'\n",
    "        elif numbers[i] == 'K':\n",
    "            numbers[i] = '13'\n",
    "        elif numbers[i] == 'A':\n",
    "            numbers[i] = '14'\n",
    "    numbers = [int(i) for i in numbers]\n",
    "    numbers.sort(reverse = False)\n",
    "    return numbers"
   ]
  },
  {
   "cell_type": "code",
   "execution_count": 3,
   "id": "7c7da835-371b-4f01-b753-0124312a66d9",
   "metadata": {},
   "outputs": [
    {
     "data": {
      "text/plain": [
       "True"
      ]
     },
     "execution_count": 3,
     "metadata": {},
     "output_type": "execute_result"
    }
   ],
   "source": [
    "#this function determines if the hand is a 'straight'\n",
    "\n",
    "def straightcheck(hand):\n",
    "    straight = False\n",
    "    count = countnumbers(hand)\n",
    "    if count [0][1] == 1:\n",
    "        x = True\n",
    "        for i in range(len(count)-1):\n",
    "            if count[i][0] != count[i+1][0]-1:\n",
    "                x = False\n",
    "        straight = x\n",
    "    return straight\n",
    "straightcheck([\"1s\", \"2c\", \"4d\", \"5d\", \"3h\"])"
   ]
  },
  {
   "cell_type": "code",
   "execution_count": 4,
   "id": "71d74503-6aa5-48e6-9dd2-e492a3b909cb",
   "metadata": {},
   "outputs": [
    {
     "data": {
      "text/plain": [
       "True"
      ]
     },
     "execution_count": 4,
     "metadata": {},
     "output_type": "execute_result"
    }
   ],
   "source": [
    "#this function determines if the hand is a 'flush'\n",
    "\n",
    "def isflush(hand):\n",
    "    suitlist = []\n",
    "    for i in hand:\n",
    "        suitlist.append(i[-1])\n",
    "    x = Counter(suitlist)\n",
    "    return Counter.most_common(x)[0][1] == 5\n",
    "    #return x[hand[1][-1]] == 5\n",
    "isflush([\"10h\", \"Jh\", \"Qh\", \"Ah\", \"Kh\"])"
   ]
  },
  {
   "cell_type": "code",
   "execution_count": 5,
   "id": "b2d30d4d-eebb-48fc-92e0-9b1601856a58",
   "metadata": {},
   "outputs": [
    {
     "data": {
      "text/plain": [
       "['3', '3', '5', '5', '5']"
      ]
     },
     "execution_count": 5,
     "metadata": {},
     "output_type": "execute_result"
    }
   ],
   "source": [
    "#this function orders values of the cards in hand\n",
    "\n",
    "def sortnumbers(hand):\n",
    "    numbers = []\n",
    "    for i in hand:\n",
    "        numbers.append(i[0:-1])\n",
    "    for i in range(len(numbers)):\n",
    "        if numbers[i] == 'J':\n",
    "            numbers[i] = '11'\n",
    "        elif numbers[i] == 'Q':\n",
    "            numbers[i] = '12'\n",
    "        elif numbers[i] == 'K':\n",
    "            numbers[i] = '13'\n",
    "        elif numbers[i] == 'A':\n",
    "            numbers[i] = '14'\n",
    "    numbers.sort(reverse = False)\n",
    "    return numbers\n",
    "\n",
    "sortnumbers([\"3h\", \"5h\", \"5s\", \"3h\", \"5d\"])"
   ]
  },
  {
   "cell_type": "code",
   "execution_count": 6,
   "id": "b848bfef-9b67-47a1-b8ba-9dd219d139e2",
   "metadata": {},
   "outputs": [
    {
     "name": "stdout",
     "output_type": "stream",
     "text": [
      "('straight', 5)\n"
     ]
    }
   ],
   "source": [
    "#this function determines the type of hand and assigns a 'hand value'. 10 is best(royal flush). 1 is worst(nothing)\n",
    "\n",
    "def determinehand(hand):\n",
    "    numbers = sortnumbers(hand)\n",
    "    count = countnumbers(hand)\n",
    "    straight = straightcheck(hand)\n",
    "    flush = isflush(hand)\n",
    "    if flush:\n",
    "        if straight and numbers[4] == '14':\n",
    "            return ('royal flush',10)\n",
    "        if straight:\n",
    "            return ('straight flush',9)\n",
    "    if count[0][1] == 4:\n",
    "        return ('four of a kind', 8)\n",
    "    if count[0][1] == 3 and count[1][1] == 2:\n",
    "        return ('full house',7)\n",
    "    if flush:\n",
    "        return ('flush',6)\n",
    "    if straight:\n",
    "            return ('straight',5)\n",
    "    if count[0][1] == 3:\n",
    "        return ('three of a kind',4)\n",
    "    if count[0][1] == 2 and count[1][1] == 2:\n",
    "        return ('two pair',3)\n",
    "    if count[0][1] == 2:\n",
    "        return ('pair',2)\n",
    "    else:\n",
    "        return ('nothing',1)\n",
    "    \n",
    "print(determinehand([\"10d\", \"8d\", \"9d\", \"7h\", \"6d\"]))"
   ]
  },
  {
   "cell_type": "code",
   "execution_count": 7,
   "id": "6a7b6f53-066e-4dc9-a41c-2f2238494c37",
   "metadata": {},
   "outputs": [],
   "source": [
    "from random import shuffle\n",
    "from random import randint\n",
    "#creating players object\n",
    "\n",
    "deck = ['2h', '3h', '4h', '5h', '6h', '7h', '8h', '9h', '10h', 'Jh', 'Qh', 'Kh', 'Ah', '2d', '2s', '2c', '3d', '3s', '3c', '4d', '4s', '4c',\n",
    "            '5d', '5s', '5c', '6d', '6s', '6c', '7d', '7s', '7c', '8d', '8s', '8c', '9d', '9s', '9c', '10d', '10s', '10c', 'Jd', 'Js', 'Jc',\n",
    "            'Qd', 'Qs', 'Qc', 'Kd', 'Ks', 'Kc', 'Ad', 'As', 'Ac']\n",
    "#creating possible opponents object\n",
    "\n",
    "people = ['Dwight','Meg','Claudette','Jake','Nea','Laurie','Ace','William','Feng','David','Quentin','Kate','Adam','Jeffrey','Jane','Ash','Nancy','Steve','Yui',\n",
    "           'Zarina','Cheryl','Felix','Élodie','Yun-Jin','Jill','Leon','Mikaela','Jonah','Yoichi','Haddie','Ada','Rebecca']\n",
    "\n",
    "\n"
   ]
  },
  {
   "cell_type": "code",
   "execution_count": 8,
   "id": "f40c90ae-d3b6-48ad-afa3-b4569dbe8369",
   "metadata": {},
   "outputs": [],
   "source": [
    "'''def welcome(x = input(\"Hello there stranger, fancy some gamblin'?(yes/no)\")):\n",
    "    if x == 'no':\n",
    "        print('perhaps another time')\n",
    "    else:\n",
    "        print('welcome friend! remember no guns at the table!')\n",
    "        x = input(\"what's yer name city dweller\")\n",
    "        global player\n",
    "        player = {'chips': 1000}\n",
    "        player['name'] = x\n",
    "        player['contrib'] = 0\n",
    "        player['hand'] = None\n",
    "        player['cards'] = None\n",
    "        player['owed'] = 0\n",
    "        print(\"welcome\", x)'''\n",
    "def welcome():\n",
    "    x = input(\"what's your name?\")\n",
    "    global player\n",
    "    player = {'chips': 1000}\n",
    "    player['name'] = x\n",
    "    player['contrib'] = 0\n",
    "    player['hand'] = (None,1)\n",
    "    player['cards'] = []\n",
    "    player['owed'] = 0\n",
    "    player['folded'] = False\n",
    "    player['bthresh'] = 0\n",
    "    player['nums'] = 0\n",
    "    print(\"welcome\", x)\n",
    "#welcome()\n"
   ]
  },
  {
   "cell_type": "code",
   "execution_count": 9,
   "id": "42ec1322-ccea-464e-ad6e-832a165069fd",
   "metadata": {},
   "outputs": [],
   "source": [
    "table = []\n",
    "bets = 0\n",
    "pot = 0\n",
    "foldlist = []"
   ]
  },
  {
   "cell_type": "code",
   "execution_count": 10,
   "id": "6c6bedc4-0f48-4a82-ba10-f8d08975e30b",
   "metadata": {},
   "outputs": [
    {
     "name": "stdin",
     "output_type": "stream",
     "text": [
      "How many opponents you lookin'to bankrupt?(3 to 5) 5\n"
     ]
    }
   ],
   "source": [
    "def createplayers(x = input(\"How many opponents you lookin'to bankrupt?(3 to 5)\")):\n",
    "    x = int(x)\n",
    "    shuffle(people)\n",
    "    y = []\n",
    "    for i in range(x):\n",
    "        y.append(people[i])\n",
    "    global opps,opp1,opp2,opp3,opp4,opp5,players1\n",
    "    opp1,opp2,opp3,opp4,opp5 = {},{},{},{},{}\n",
    "\n",
    "    opps = (opp1,opp2,opp3,opp4,opp5)\n",
    "    for a,b in zip(y,opps):\n",
    "        b['name'],b['chips'],b['contrib'],b['hand'],b['cards'],b['bthresh'], b['owed'], b['folded'],b['nums'] = a, 1000, 0, (None,1), [], 0, 0, False, 0\n",
    "        b['hthresh1'],b['hthresh2'],b['hthresh3'] = randint(2,3), randint(4,5), randint(6,7)\n",
    "        b['rthresh1'],b['rthresh2'],b['rthresh3'],b['rthresh4'] = randint(50,100), randint(101,300), randint(301,600), randint(601,1000)\n",
    "        \n",
    "        #b['owed'] = bets - b['contrib']\n",
    "        \n",
    "    opps = opps[:len(y)]\n",
    "    players1 = [player] + list(opps)\n",
    "    print('Your opponents are ', end = '')\n",
    "    for i in y[0:len(y)-1]:\n",
    "        print(i + ', ', end = '')\n",
    "    print('and ' + y[-1] + '.')\n",
    "    \n",
    "#createplayers()\n",
    "#print(players1)"
   ]
  },
  {
   "cell_type": "code",
   "execution_count": 11,
   "id": "c3f85f34-a53d-4f34-96b7-232fa43e6704",
   "metadata": {
    "tags": []
   },
   "outputs": [
    {
     "data": {
      "text/plain": [
       "(('2h', '3h', '4h', '5h', '6h'),\n",
       " ('2h', '3h', '4h', '5h', '7h'),\n",
       " ('2h', '3h', '4h', '5h', '8h'),\n",
       " ('2h', '3h', '4h', '6h', '7h'),\n",
       " ('2h', '3h', '4h', '6h', '8h'),\n",
       " ('2h', '3h', '4h', '7h', '8h'),\n",
       " ('2h', '3h', '5h', '6h', '7h'),\n",
       " ('2h', '3h', '5h', '6h', '8h'),\n",
       " ('2h', '3h', '5h', '7h', '8h'),\n",
       " ('2h', '3h', '6h', '7h', '8h'),\n",
       " ('2h', '4h', '5h', '6h', '7h'),\n",
       " ('2h', '4h', '5h', '6h', '8h'),\n",
       " ('2h', '4h', '5h', '7h', '8h'),\n",
       " ('2h', '4h', '6h', '7h', '8h'),\n",
       " ('2h', '5h', '6h', '7h', '8h'),\n",
       " ('3h', '4h', '5h', '6h', '7h'),\n",
       " ('3h', '4h', '5h', '6h', '8h'),\n",
       " ('3h', '4h', '5h', '7h', '8h'),\n",
       " ('3h', '4h', '6h', '7h', '8h'),\n",
       " ('3h', '5h', '6h', '7h', '8h'),\n",
       " ('4h', '5h', '6h', '7h', '8h'))"
      ]
     },
     "execution_count": 11,
     "metadata": {},
     "output_type": "execute_result"
    }
   ],
   "source": [
    "from itertools import combinations\n",
    "tuple(combinations(['2h', '3h', '4h', '5h', '6h', '7h', '8h'], r = 5))"
   ]
  },
  {
   "cell_type": "code",
   "execution_count": 12,
   "id": "1b517b38-7196-4b58-a4d6-acea4bb71701",
   "metadata": {},
   "outputs": [
    {
     "name": "stdout",
     "output_type": "stream",
     "text": [
      "1\n"
     ]
    }
   ],
   "source": [
    "x = randint(1,2)\n",
    "print(x)"
   ]
  },
  {
   "cell_type": "code",
   "execution_count": 18,
   "id": "18d38b8a-4065-4450-ac50-4ca60e968503",
   "metadata": {},
   "outputs": [],
   "source": [
    "def aibetting(x):\n",
    "    global bets, players2, players1, pot\n",
    "    x['owed'] = bets - x['contrib']\n",
    "    if x['hand'][1] >= x['hthresh3']:\n",
    "        y = x['rthresh4']\n",
    "    elif x['hand'][1] >= x['hthresh2']:\n",
    "        y = x['rthresh3']\n",
    "    elif x['hand'][1] >= x['hthresh1']:\n",
    "        y = x['rthresh2']\n",
    "    else:\n",
    "        y = x['rthresh1']\n",
    "    if x['bthresh'] == 0:\n",
    "        z = randint(1,15)\n",
    "        if z == 15:\n",
    "            x['bthresh'] = x['rthresh4']\n",
    "        elif z == 14:\n",
    "            x['bthresh'] = x['rthresh3']\n",
    "        elif z == 13:\n",
    "            x['bthresh'] = x['rthresh2']\n",
    "    if y < x['bthresh']:\n",
    "        y = x['bthresh']\n",
    "    if bets > int(y * 1.5):\n",
    "        print(x['name'] + ': Too rich for my blood. I fold')\n",
    "        x['owed'] = 0\n",
    "        x['contrib'] = 0\n",
    "        x['folded'] = True\n",
    "        foldlist.append(x)\n",
    "    if int(y * 0.7) <= bets <= int(y * 1.5) and x['owed'] > 0:\n",
    "        print(x['name'] + ': I call.')\n",
    "        pot += x['owed']\n",
    "        x['contrib'] = bets\n",
    "        x['chips'] -= x['owed']\n",
    "        x['owed'] = 0\n",
    "    elif int(y * 0.7) <= bets <= int(y * 1.5) and x['owed'] == 0:\n",
    "        print(x['name'] + ': I check.')\n",
    "    if bets < int(y * 0.7):\n",
    "        z = int(y * 0.7) - bets \n",
    "        print(x['name'] + ': I raise',z)\n",
    "        bets += z\n",
    "        pot += x['owed'] + z\n",
    "        x['contrib'] = bets\n",
    "        x['chips'] -= x['owed'] + z\n",
    "        x['owed'] = 0\n",
    "    print(x['name'] + ' has', x['chips'], 'left')"
   ]
  },
  {
   "cell_type": "code",
   "execution_count": 19,
   "id": "a8589aaa-fe8a-4aae-9ba8-81bc0a9633bf",
   "metadata": {},
   "outputs": [],
   "source": [
    "def pbetting():\n",
    "    global player, bets, players2, players1, foldlist, pot\n",
    "    player['owed'] = bets - player['contrib']\n",
    "    print('you have', player['chips'], 'remaining')\n",
    "    if player['owed'] > 0:\n",
    "        choice = input('call, raise or fold(type exactly as shown). calling would cost you '+ str(player['owed']) + ' chips')\n",
    "        if choice == 'call':\n",
    "            pot += player['owed']\n",
    "            player['chips'] -= player['owed']\n",
    "            player['contrib'] += player['owed']\n",
    "            player['owed'] = 0\n",
    "            print('you called')\n",
    "        elif choice == 'raise':\n",
    "            raised = input('you call ' + str(player['owed']) + ' and raise how many chips?')\n",
    "            raised = int(raised)\n",
    "            pot += player['owed'] + raised\n",
    "            player['chips'] -= player['owed'] + raised\n",
    "            player['contrib'] += player['owed'] + raised\n",
    "            player['owed'] = 0\n",
    "            bets += raised\n",
    "            print('you called',player['owed'], 'and raised',raised)\n",
    "        elif choice == 'fold':\n",
    "            player['contrib'] = 0\n",
    "            player['owed'] = 0\n",
    "            player['folded'] = True\n",
    "            print('you folded')\n",
    "            foldlist.append(player)\n",
    "    elif player['owed'] == 0:# and player['contrib'] == 50:\n",
    "        choice = input('check or raise?(type exactly as shown)')\n",
    "        if choice == 'check':\n",
    "            print('you check')\n",
    "        elif choice == 'raise':\n",
    "            raised = input('you raise how many chips?')\n",
    "            raised = int(raised)\n",
    "            pot += player['owed'] + raised\n",
    "            player['chips'] -= player['owed'] + raised\n",
    "            player['contrib'] += player['owed'] + raised\n",
    "            player['owed'] = 0\n",
    "            bets += raised\n",
    "            print('you called and raised',raised)\n",
    "            "
   ]
  },
  {
   "cell_type": "code",
   "execution_count": 20,
   "id": "8cf9be5a-9a8b-4af8-9b49-cc8e61c9bf0e",
   "metadata": {},
   "outputs": [],
   "source": [
    "def checksettled():\n",
    "    global players2, bets\n",
    "    x = True\n",
    "    for i in players2:\n",
    "        i['owed'] = bets - i['contrib']\n",
    "        if i['owed'] != 0 and i['folded'] == False:\n",
    "            x = False\n",
    "    return x"
   ]
  },
  {
   "cell_type": "code",
   "execution_count": 21,
   "id": "c99fed7c-b897-4ea7-9ae9-bb7b7ba30fc4",
   "metadata": {
    "tags": []
   },
   "outputs": [],
   "source": [
    "table = []\n",
    "bets = 0\n",
    "pot = 0\n",
    "foldlist = []\n",
    "def round1():\n",
    "    global pot, bets, players2, players1, player, foldlist, deck\n",
    "    \n",
    "    players1[1]['contrib'] += 25\n",
    "    players1[1]['chips'] -= 25\n",
    "    players1[2]['contrib'] += 50\n",
    "    players1[2]['chips'] -= 50\n",
    "    bets += 50\n",
    "    pot += 75\n",
    "    print(players1[1]['name'], 'pays small blind:', 25)\n",
    "    print(players1[2]['name'], 'pays big blind:', 50)\n",
    "    player['owed'] = 50\n",
    "    shuffle(deck)\n",
    "    for i in players1:\n",
    "        i['cards'].append(deck[0])\n",
    "        i['cards'].append(deck[1])\n",
    "        deck.pop(0)\n",
    "        deck.pop(0)\n",
    "    print('You are holding', player['cards'], '.')\n",
    "    players2 = players1[3:] + players1[:3]\n",
    "    settled = False\n",
    "    loopcount = 0\n",
    "    while settled == False:\n",
    "        for i in players2:\n",
    "            if i == player:\n",
    "                pbetting()\n",
    "            else:\n",
    "                aibetting(i)\n",
    "            settled = checksettled()\n",
    "            if settled and loopcount:\n",
    "                break\n",
    "        for i in foldlist:\n",
    "            players2.remove(i)\n",
    "        foldlist = []\n",
    "        loopcount = 1\n",
    "        #settled = checksettled()\n",
    "    print('You are holding', player['cards'], '.')\n",
    "    print('The pot contains', pot, 'chips.')\n",
    "    \n",
    "#round1()\n",
    "#print([players1[i]['name'] for i in range(len(players1))],[players2[i]['name'] for i in range(len(players2))])\n",
    "    \n",
    "    \n",
    "    \n",
    "    \n",
    "    \n",
    "    "
   ]
  },
  {
   "cell_type": "code",
   "execution_count": 22,
   "id": "b8bc54f8-24d2-4b9d-a1f6-73bf6b74cfc5",
   "metadata": {},
   "outputs": [],
   "source": [
    "def round2():\n",
    "    global pot, players2, table, bets, foldlist, deck, player\n",
    "    for i in range(3):\n",
    "        table.append(deck[0])\n",
    "        deck.pop(0)\n",
    "    print('The table cards are', table)\n",
    "    for i in players2:\n",
    "        i['hand'] = determinehand(i['cards'] + table)\n",
    "    print('You have', player['hand'][0], '.')\n",
    "    settled = False\n",
    "    loopcount = 0\n",
    "    while settled == False:\n",
    "        for i in players2:\n",
    "            if i == player:\n",
    "                pbetting()\n",
    "            else:\n",
    "                aibetting(i)\n",
    "            settled = checksettled()\n",
    "            if settled and loopcount:\n",
    "                break\n",
    "        for i in foldlist:\n",
    "            players2.remove(i)\n",
    "        foldlist = []\n",
    "        loopcount = 1\n",
    "    print('The pot contains', pot, 'chips.')\n",
    "    \n",
    "    \n",
    "#round2()\n",
    "    "
   ]
  },
  {
   "cell_type": "code",
   "execution_count": 23,
   "id": "9757e190-1c4f-4564-85eb-00adc48d5ebc",
   "metadata": {},
   "outputs": [],
   "source": [
    "def round3():\n",
    "    global pot, players2, table, bets, foldlist, deck, player\n",
    "    table.append(deck[0])\n",
    "    deck.pop(0)\n",
    "    print('The table cards are', table)\n",
    "    for i in players2:\n",
    "        for y in tuple(combinations(i['cards'] + table, r = 5)):\n",
    "            x = determinehand(list(y))\n",
    "            if i['hand'][1] < x[1]:\n",
    "                i['hand'] = x\n",
    "        \n",
    "    print('You have', player['hand'][0], '.')\n",
    "    settled = False\n",
    "    loopcount = 0\n",
    "    while settled == False:\n",
    "        for i in players2:\n",
    "            if i == player:\n",
    "                pbetting()\n",
    "            else:\n",
    "                aibetting(i)\n",
    "            settled = checksettled()\n",
    "            if settled and loopcount:\n",
    "                break\n",
    "        for i in foldlist:\n",
    "            players2.remove(i)\n",
    "        foldlist = []\n",
    "        loopcount = 1\n",
    "    print('The pot contains', pot, 'chips.')\n",
    "#round3()"
   ]
  },
  {
   "cell_type": "code",
   "execution_count": 24,
   "id": "670d074a-cc1d-44bf-adc8-2b6da6b5c003",
   "metadata": {},
   "outputs": [],
   "source": [
    "def round4():\n",
    "    global pot, players2, table, bets, foldlist, deck, player\n",
    "    table.append(deck[0])\n",
    "    deck.pop(0)\n",
    "    print('The table cards are', table)\n",
    "    for i in players2:\n",
    "        for y in tuple(combinations(i['cards'] + table, r = 5)):\n",
    "            x = determinehand(list(y))\n",
    "            if i['hand'][1] < x[1]:\n",
    "                i['hand'] = x\n",
    "        \n",
    "    print('You have', player['hand'][0], '.')\n",
    "    settled = False\n",
    "    loopcount = 0\n",
    "    while settled == False:\n",
    "        for i in players2:\n",
    "            if i == player:\n",
    "                pbetting()\n",
    "            else:\n",
    "                aibetting(i)\n",
    "            settled = checksettled()\n",
    "            if settled and loopcount:\n",
    "                break\n",
    "        for i in foldlist:\n",
    "            players2.remove(i)\n",
    "        foldlist = []\n",
    "        loopcount = 1\n",
    "    print('The pot contains', pot, 'chips.')\n",
    "#round4()"
   ]
  },
  {
   "cell_type": "code",
   "execution_count": 27,
   "id": "72097844-aab7-47fa-b123-8b00f3d389aa",
   "metadata": {},
   "outputs": [],
   "source": [
    "def findwinner():\n",
    "    global pot, players2, table, bets, foldlist, deck, player\n",
    "    hands = [i['hand'][1] for i in players2]\n",
    "    x = max(hands)\n",
    "    whands = [(i,y) for i,y in enumerate(hands) if y == x]\n",
    "    windices = [i[0] for i in whands]\n",
    "    if len(windices) > 1:\n",
    "        for i in windices:\n",
    "            players2[i]['nums'] = convertnumbers(players2[i]['cards'])\n",
    "        windices = [i for i in windices if players2[i]['nums'][0] == max([y['nums'][0] for y in players2])]\n",
    "        if len(windices) > 1:\n",
    "            windices = [i for i in windices if players2[i]['nums'][1] == max([y['nums'][1] for y in players2])]\n",
    "            if len(windices) > 1:\n",
    "                statement = 'Tie Between '+ players2[windices[0]]['name']\n",
    "                for i in windices[1:]:\n",
    "                    statement += ' and ' + players2[i]['name']\n",
    "                print(statement)\n",
    "                pot //= len(windices)\n",
    "                for i in windices:\n",
    "                    players2[i]['chips'] += pot\n",
    "                print('Each winner wins', pot, 'chips')\n",
    "            else:\n",
    "                print(players2[windices[0]]['name'],'wins', pot, 'chips with', players2[windices[0]]['hand'][0])\n",
    "                players2[windices[0]]['chips'] += pot\n",
    "        else:\n",
    "            print(players2[windices[0]]['name'],'wins', pot, 'chips with', players2[windices[0]]['hand'][0])\n",
    "            players2[windices[0]]['chips'] += pot\n",
    "    else:\n",
    "        print(players2[windices[0]]['name'],'wins', pot, 'chips with', players2[windices[0]]['hand'][0])\n",
    "        players2[windices[0]]['chips'] += pot\n",
    "        \n",
    "            \n",
    "   \n",
    "#findwinner()"
   ]
  },
  {
   "cell_type": "code",
   "execution_count": 28,
   "id": "dda76f46-864c-4fc5-9f16-fdf99380aeaf",
   "metadata": {},
   "outputs": [],
   "source": [
    "#print(players1)"
   ]
  },
  {
   "cell_type": "code",
   "execution_count": 32,
   "id": "600957ce-c447-4ba7-bc11-5948b7c45a68",
   "metadata": {},
   "outputs": [],
   "source": [
    "def wrapup():\n",
    "    global pot, players2, table, bets, foldlist, deck, player, players1\n",
    "    busted = [i for i in players1 if i['chips'] <= 0]\n",
    "    players1 = [i for i in players1 if i not in busted]\n",
    "    for i in busted:\n",
    "        print(i['name'] + ' busts out.')\n",
    "    pot, table, bets = 0, [], 0\n",
    "    for b in players1:\n",
    "        b['contrib'],b['hand'],b['cards'],b['bthresh'], b['owed'], b['folded'],b['nums'] = 0, (None,1), [], 0, 0, False, 0\n",
    "    deck = ['2h', '3h', '4h', '5h', '6h', '7h', '8h', '9h', '10h', 'Jh', 'Qh', 'Kh', 'Ah', '2d', '2s', '2c', '3d', '3s', '3c', '4d', '4s', '4c',\n",
    "            '5d', '5s', '5c', '6d', '6s', '6c', '7d', '7s', '7c', '8d', '8s', '8c', '9d', '9s', '9c', '10d', '10s', '10c', 'Jd', 'Js', 'Jc',\n",
    "            'Qd', 'Qs', 'Qc', 'Kd', 'Ks', 'Kc', 'Ad', 'As', 'Ac']\n",
    "    players1 = players1[1:] + players1[:1]\n",
    "        \n",
    "#wrapup()\n",
    "    "
   ]
  },
  {
   "cell_type": "code",
   "execution_count": 30,
   "id": "7a3a3666-bd0d-4586-88e9-b67af7860078",
   "metadata": {},
   "outputs": [],
   "source": [
    "def play_the_game():\n",
    "    table = []\n",
    "    bets = 0\n",
    "    pot = 0\n",
    "    foldlist = []\n",
    "    welcome()\n",
    "    createplayers()\n",
    "    while player['chips'] > 0 and len(players1) > 1:\n",
    "        round1()\n",
    "        round2()\n",
    "        round3()\n",
    "        round4()\n",
    "        findwinner()\n",
    "        wrapup()\n",
    "    "
   ]
  },
  {
   "cell_type": "code",
   "execution_count": 31,
   "id": "23ab7b81-4baa-4b64-86c3-80b7c349bf42",
   "metadata": {},
   "outputs": [
    {
     "name": "stdin",
     "output_type": "stream",
     "text": [
      "what's your name? Cha\n"
     ]
    },
    {
     "name": "stdout",
     "output_type": "stream",
     "text": [
      "welcome Cha\n",
      "Your opponents are Dwight, Meg, Quentin, Laurie, and Leon.\n",
      "Dwight pays small blind: 25\n",
      "Meg pays big blind: 50\n",
      "You are holding ['6c', '8d'] .\n",
      "Quentin: I raise 10\n",
      "Quentin has 940 left\n",
      "Laurie: I call.\n",
      "Laurie has 940 left\n",
      "Leon: I call.\n",
      "Leon has 940 left\n",
      "you have 1000 remaining\n"
     ]
    },
    {
     "name": "stdin",
     "output_type": "stream",
     "text": [
      "call, raise or fold(type exactly as shown). calling would cost you 60 chips call\n"
     ]
    },
    {
     "name": "stdout",
     "output_type": "stream",
     "text": [
      "you called\n",
      "Dwight: I call.\n",
      "Dwight has 940 left\n",
      "Meg: I call.\n",
      "Meg has 940 left\n",
      "You are holding ['6c', '8d'] .\n",
      "The pot contains 360 chips.\n",
      "The table cards are ['Kc', '3c', '6h']\n",
      "You have pair .\n",
      "Quentin: I check.\n",
      "Quentin has 940 left\n",
      "Laurie: I check.\n",
      "Laurie has 940 left\n",
      "Leon: I check.\n",
      "Leon has 940 left\n",
      "you have 940 remaining\n"
     ]
    },
    {
     "name": "stdin",
     "output_type": "stream",
     "text": [
      "check or raise?(type exactly as shown) raise 5\n"
     ]
    },
    {
     "name": "stdout",
     "output_type": "stream",
     "text": [
      "Dwight: I check.\n",
      "Dwight has 940 left\n",
      "Meg: I raise 414\n",
      "Meg has 526 left\n",
      "Quentin: Too rich for my blood. I fold\n",
      "Quentin has 940 left\n",
      "Laurie: Too rich for my blood. I fold\n",
      "Laurie has 940 left\n",
      "Leon: Too rich for my blood. I fold\n",
      "Leon has 940 left\n",
      "you have 940 remaining\n"
     ]
    },
    {
     "name": "stdin",
     "output_type": "stream",
     "text": [
      "call, raise or fold(type exactly as shown). calling would cost you 414 chips call\n"
     ]
    },
    {
     "name": "stdout",
     "output_type": "stream",
     "text": [
      "you called\n",
      "Dwight: Too rich for my blood. I fold\n",
      "Dwight has 940 left\n",
      "The pot contains 1188 chips.\n",
      "The table cards are ['Kc', '3c', '6h', '10c']\n",
      "You have pair .\n",
      "you have 526 remaining\n"
     ]
    },
    {
     "name": "stdin",
     "output_type": "stream",
     "text": [
      "check or raise?(type exactly as shown) check\n"
     ]
    },
    {
     "name": "stdout",
     "output_type": "stream",
     "text": [
      "you check\n",
      "Meg: I check.\n",
      "Meg has 526 left\n",
      "The pot contains 1188 chips.\n",
      "The table cards are ['Kc', '3c', '6h', '10c', '10s']\n",
      "You have two pair .\n",
      "you have 526 remaining\n"
     ]
    },
    {
     "name": "stdin",
     "output_type": "stream",
     "text": [
      "check or raise?(type exactly as shown) check\n"
     ]
    },
    {
     "name": "stdout",
     "output_type": "stream",
     "text": [
      "you check\n",
      "Meg: I check.\n",
      "Meg has 526 left\n",
      "The pot contains 1188 chips.\n",
      "Cha wins 1188 chips with two pair\n",
      "Meg pays small blind: 25\n",
      "Quentin pays big blind: 50\n",
      "You are holding ['Kh', '10c'] .\n"
     ]
    },
    {
     "ename": "TypeError",
     "evalue": "'NoneType' object is not subscriptable",
     "output_type": "error",
     "traceback": [
      "\u001b[1;31m---------------------------------------------------------------------------\u001b[0m",
      "\u001b[1;31mTypeError\u001b[0m                                 Traceback (most recent call last)",
      "\u001b[1;32m~\\AppData\\Local\\Temp/ipykernel_9940/1661625827.py\u001b[0m in \u001b[0;36m<module>\u001b[1;34m\u001b[0m\n\u001b[1;32m----> 1\u001b[1;33m \u001b[0mplay_the_game\u001b[0m\u001b[1;33m(\u001b[0m\u001b[1;33m)\u001b[0m\u001b[1;33m\u001b[0m\u001b[1;33m\u001b[0m\u001b[0m\n\u001b[0m",
      "\u001b[1;32m~\\AppData\\Local\\Temp/ipykernel_9940/503450068.py\u001b[0m in \u001b[0;36mplay_the_game\u001b[1;34m()\u001b[0m\n\u001b[0;32m      7\u001b[0m     \u001b[0mcreateplayers\u001b[0m\u001b[1;33m(\u001b[0m\u001b[1;33m)\u001b[0m\u001b[1;33m\u001b[0m\u001b[1;33m\u001b[0m\u001b[0m\n\u001b[0;32m      8\u001b[0m     \u001b[1;32mwhile\u001b[0m \u001b[0mplayer\u001b[0m\u001b[1;33m[\u001b[0m\u001b[1;34m'chips'\u001b[0m\u001b[1;33m]\u001b[0m \u001b[1;33m>\u001b[0m \u001b[1;36m0\u001b[0m \u001b[1;32mand\u001b[0m \u001b[0mlen\u001b[0m\u001b[1;33m(\u001b[0m\u001b[0mplayers1\u001b[0m\u001b[1;33m)\u001b[0m \u001b[1;33m>\u001b[0m \u001b[1;36m1\u001b[0m\u001b[1;33m:\u001b[0m\u001b[1;33m\u001b[0m\u001b[1;33m\u001b[0m\u001b[0m\n\u001b[1;32m----> 9\u001b[1;33m         \u001b[0mround1\u001b[0m\u001b[1;33m(\u001b[0m\u001b[1;33m)\u001b[0m\u001b[1;33m\u001b[0m\u001b[1;33m\u001b[0m\u001b[0m\n\u001b[0m\u001b[0;32m     10\u001b[0m         \u001b[0mround2\u001b[0m\u001b[1;33m(\u001b[0m\u001b[1;33m)\u001b[0m\u001b[1;33m\u001b[0m\u001b[1;33m\u001b[0m\u001b[0m\n\u001b[0;32m     11\u001b[0m         \u001b[0mround3\u001b[0m\u001b[1;33m(\u001b[0m\u001b[1;33m)\u001b[0m\u001b[1;33m\u001b[0m\u001b[1;33m\u001b[0m\u001b[0m\n",
      "\u001b[1;32m~\\AppData\\Local\\Temp/ipykernel_9940/1264483021.py\u001b[0m in \u001b[0;36mround1\u001b[1;34m()\u001b[0m\n\u001b[0;32m     30\u001b[0m                 \u001b[0mpbetting\u001b[0m\u001b[1;33m(\u001b[0m\u001b[1;33m)\u001b[0m\u001b[1;33m\u001b[0m\u001b[1;33m\u001b[0m\u001b[0m\n\u001b[0;32m     31\u001b[0m             \u001b[1;32melse\u001b[0m\u001b[1;33m:\u001b[0m\u001b[1;33m\u001b[0m\u001b[1;33m\u001b[0m\u001b[0m\n\u001b[1;32m---> 32\u001b[1;33m                 \u001b[0maibetting\u001b[0m\u001b[1;33m(\u001b[0m\u001b[0mi\u001b[0m\u001b[1;33m)\u001b[0m\u001b[1;33m\u001b[0m\u001b[1;33m\u001b[0m\u001b[0m\n\u001b[0m\u001b[0;32m     33\u001b[0m             \u001b[0msettled\u001b[0m \u001b[1;33m=\u001b[0m \u001b[0mchecksettled\u001b[0m\u001b[1;33m(\u001b[0m\u001b[1;33m)\u001b[0m\u001b[1;33m\u001b[0m\u001b[1;33m\u001b[0m\u001b[0m\n\u001b[0;32m     34\u001b[0m             \u001b[1;32mif\u001b[0m \u001b[0msettled\u001b[0m \u001b[1;32mand\u001b[0m \u001b[0mloopcount\u001b[0m\u001b[1;33m:\u001b[0m\u001b[1;33m\u001b[0m\u001b[1;33m\u001b[0m\u001b[0m\n",
      "\u001b[1;32m~\\AppData\\Local\\Temp/ipykernel_9940/2351891657.py\u001b[0m in \u001b[0;36maibetting\u001b[1;34m(x)\u001b[0m\n\u001b[0;32m      2\u001b[0m     \u001b[1;32mglobal\u001b[0m \u001b[0mbets\u001b[0m\u001b[1;33m,\u001b[0m \u001b[0mplayers2\u001b[0m\u001b[1;33m,\u001b[0m \u001b[0mplayers1\u001b[0m\u001b[1;33m,\u001b[0m \u001b[0mpot\u001b[0m\u001b[1;33m\u001b[0m\u001b[1;33m\u001b[0m\u001b[0m\n\u001b[0;32m      3\u001b[0m     \u001b[0mx\u001b[0m\u001b[1;33m[\u001b[0m\u001b[1;34m'owed'\u001b[0m\u001b[1;33m]\u001b[0m \u001b[1;33m=\u001b[0m \u001b[0mbets\u001b[0m \u001b[1;33m-\u001b[0m \u001b[0mx\u001b[0m\u001b[1;33m[\u001b[0m\u001b[1;34m'contrib'\u001b[0m\u001b[1;33m]\u001b[0m\u001b[1;33m\u001b[0m\u001b[1;33m\u001b[0m\u001b[0m\n\u001b[1;32m----> 4\u001b[1;33m     \u001b[1;32mif\u001b[0m \u001b[0mx\u001b[0m\u001b[1;33m[\u001b[0m\u001b[1;34m'hand'\u001b[0m\u001b[1;33m]\u001b[0m\u001b[1;33m[\u001b[0m\u001b[1;36m1\u001b[0m\u001b[1;33m]\u001b[0m \u001b[1;33m>=\u001b[0m \u001b[0mx\u001b[0m\u001b[1;33m[\u001b[0m\u001b[1;34m'hthresh3'\u001b[0m\u001b[1;33m]\u001b[0m\u001b[1;33m:\u001b[0m\u001b[1;33m\u001b[0m\u001b[1;33m\u001b[0m\u001b[0m\n\u001b[0m\u001b[0;32m      5\u001b[0m         \u001b[0my\u001b[0m \u001b[1;33m=\u001b[0m \u001b[0mx\u001b[0m\u001b[1;33m[\u001b[0m\u001b[1;34m'rthresh4'\u001b[0m\u001b[1;33m]\u001b[0m\u001b[1;33m\u001b[0m\u001b[1;33m\u001b[0m\u001b[0m\n\u001b[0;32m      6\u001b[0m     \u001b[1;32melif\u001b[0m \u001b[0mx\u001b[0m\u001b[1;33m[\u001b[0m\u001b[1;34m'hand'\u001b[0m\u001b[1;33m]\u001b[0m\u001b[1;33m[\u001b[0m\u001b[1;36m1\u001b[0m\u001b[1;33m]\u001b[0m \u001b[1;33m>=\u001b[0m \u001b[0mx\u001b[0m\u001b[1;33m[\u001b[0m\u001b[1;34m'hthresh2'\u001b[0m\u001b[1;33m]\u001b[0m\u001b[1;33m:\u001b[0m\u001b[1;33m\u001b[0m\u001b[1;33m\u001b[0m\u001b[0m\n",
      "\u001b[1;31mTypeError\u001b[0m: 'NoneType' object is not subscriptable"
     ]
    }
   ],
   "source": [
    "play_the_game()"
   ]
  },
  {
   "cell_type": "code",
   "execution_count": null,
   "id": "b8b07502-5849-4a21-a006-1374d20514cc",
   "metadata": {},
   "outputs": [],
   "source": []
  }
 ],
 "metadata": {
  "kernelspec": {
   "display_name": "Python 3 (ipykernel)",
   "language": "python",
   "name": "python3"
  },
  "language_info": {
   "codemirror_mode": {
    "name": "ipython",
    "version": 3
   },
   "file_extension": ".py",
   "mimetype": "text/x-python",
   "name": "python",
   "nbconvert_exporter": "python",
   "pygments_lexer": "ipython3",
   "version": "3.8.12"
  }
 },
 "nbformat": 4,
 "nbformat_minor": 5
}
