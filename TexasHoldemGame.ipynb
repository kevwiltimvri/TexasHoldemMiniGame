{
 "cells": [
  {
   "cell_type": "code",
   "execution_count": 1,
   "id": "7757b410-f278-4fb1-9a7c-77b5a5b40e35",
   "metadata": {},
   "outputs": [
    {
     "name": "stdout",
     "output_type": "stream",
     "text": [
      "[(10, 3), (9, 2)]\n",
      "4\n"
     ]
    }
   ],
   "source": [
    "#Import libraries\n",
    "from collections import Counter\n",
    "from random import shuffle\n",
    "from random import randint\n",
    "from itertools import combinations\n",
    "\n",
    "#this function produces a list of tuples, the first item of each tuple being a card value, and the second item being the number of times that value occurs in the given hand\n",
    "#a hand is a list of 5 'cards' in the form of strings. The string will be begin with a number between 1 and 10 or J, Q, K or A for Jack, Queen and so on.\n",
    "#the last character is a lower case s, c, d, or h to represent 'suit' as in spades, clubs, diamonds or hearts\n",
    "\n",
    "def countnumbers(hand):\n",
    "    numbers = []\n",
    "    #this loop seperates values from suits\n",
    "    for i in hand:\n",
    "        numbers.append(i[:-1])\n",
    "    #this loop converts face cards to numerical values. Ex: Jack = 11, Ace = 14\n",
    "    for i in range(len(numbers)):\n",
    "        if numbers[i] == 'J':\n",
    "            numbers[i] = '11'\n",
    "        elif numbers[i] == 'Q':\n",
    "            numbers[i] = '12'\n",
    "        elif numbers[i] == 'K':\n",
    "            numbers[i] = '13'\n",
    "        elif numbers[i] == 'A':\n",
    "            numbers[i] = '14'\n",
    "    #convert strings to integer type\n",
    "    numbers = [int(i) for i in numbers]\n",
    "    #sort the numbers in order\n",
    "    numbers.sort(reverse = False)\n",
    "    #produce counts of the values\n",
    "    x = Counter(numbers)\n",
    "    return Counter.most_common(x)\n",
    "  \n",
    "#test code    \n",
    "\n",
    "print(countnumbers([\"10s\", \"9c\", \"9d\", \"10d\", \"10h\"]))  \n",
    "#the number of times the most common vaue occurs\n",
    "print(countnumbers([\"10s\", \"10c\", \"8d\", \"10d\", \"10h\"])[0][1])"
   ]
  },
  {
   "cell_type": "code",
   "execution_count": 2,
   "id": "5ebabbb0-3802-4b69-802a-f5ae24d51faf",
   "metadata": {},
   "outputs": [],
   "source": [
    "#this functions converts cards to numerical values like the function above but doesnt count the values\n",
    "def convertnumbers(hand):\n",
    "    numbers = []\n",
    "    for i in hand:\n",
    "        numbers.append(i[:-1])\n",
    "    for i in range(len(numbers)):\n",
    "        if numbers[i] == 'J':\n",
    "            numbers[i] = '11'\n",
    "        elif numbers[i] == 'Q':\n",
    "            numbers[i] = '12'\n",
    "        elif numbers[i] == 'K':\n",
    "            numbers[i] = '13'\n",
    "        elif numbers[i] == 'A':\n",
    "            numbers[i] = '14'\n",
    "    numbers = [int(i) for i in numbers]\n",
    "    numbers.sort(reverse = False)\n",
    "    return numbers"
   ]
  },
  {
   "cell_type": "code",
   "execution_count": 3,
   "id": "7c7da835-371b-4f01-b753-0124312a66d9",
   "metadata": {},
   "outputs": [
    {
     "data": {
      "text/plain": [
       "True"
      ]
     },
     "execution_count": 3,
     "metadata": {},
     "output_type": "execute_result"
    }
   ],
   "source": [
    "#this function determines if the hand is a 'straight'\n",
    "#a straight is when the hand contains 5 values that consecutively increase by 1. Ex: 1,2,3,4,5 or 1,3,4,2,5 or ,6,8,10,9,7\n",
    "\n",
    "def straightcheck(hand):\n",
    "    #assume the hand is not a straight\n",
    "    straight = False\n",
    "    count = countnumbers(hand)\n",
    "    #check that no card value occurs twice\n",
    "    if count [0][1] == 1:\n",
    "        x = True\n",
    "        #loop through the counted and sorted values\n",
    "        for i in range(len(count)-1):\n",
    "            #check that each sorted value is 1 less than the value ahead of it (minus the last value)\n",
    "            #if this requirement is untrue even once, the function will return false\n",
    "            if count[i][0] != count[i+1][0]-1:\n",
    "                x = False\n",
    "        straight = x\n",
    "    return straight\n",
    "\n",
    "#test code\n",
    "straightcheck([\"1s\", \"2c\", \"4d\", \"5d\", \"3h\"])"
   ]
  },
  {
   "cell_type": "code",
   "execution_count": 4,
   "id": "71d74503-6aa5-48e6-9dd2-e492a3b909cb",
   "metadata": {},
   "outputs": [
    {
     "data": {
      "text/plain": [
       "True"
      ]
     },
     "execution_count": 4,
     "metadata": {},
     "output_type": "execute_result"
    }
   ],
   "source": [
    "#this function determines if the hand is a 'flush'\n",
    "#a flush is when all cards are the same suit\n",
    "\n",
    "def isflush(hand):\n",
    "    suitlist = []\n",
    "    #seperate suits from values\n",
    "    for i in hand:\n",
    "        suitlist.append(i[-1])\n",
    "    #count suit values\n",
    "    x = Counter(suitlist)\n",
    "    #return true if the most common suit occurs 5 times, false otherwise\n",
    "    return Counter.most_common(x)[0][1] == 5\n",
    "#test code\n",
    "isflush([\"10h\", \"Jh\", \"Qh\", \"Ah\", \"Kh\"])"
   ]
  },
  {
   "cell_type": "code",
   "execution_count": 5,
   "id": "b2d30d4d-eebb-48fc-92e0-9b1601856a58",
   "metadata": {},
   "outputs": [
    {
     "data": {
      "text/plain": [
       "['3', '3', '5', '5', '5']"
      ]
     },
     "execution_count": 5,
     "metadata": {},
     "output_type": "execute_result"
    }
   ],
   "source": [
    "#this function orders values of the cards in hand\n",
    "\n",
    "def sortnumbers(hand):\n",
    "    numbers = []\n",
    "    for i in hand:\n",
    "        numbers.append(i[0:-1])\n",
    "    for i in range(len(numbers)):\n",
    "        if numbers[i] == 'J':\n",
    "            numbers[i] = '11'\n",
    "        elif numbers[i] == 'Q':\n",
    "            numbers[i] = '12'\n",
    "        elif numbers[i] == 'K':\n",
    "            numbers[i] = '13'\n",
    "        elif numbers[i] == 'A':\n",
    "            numbers[i] = '14'\n",
    "    numbers.sort(reverse = False)\n",
    "    return numbers\n",
    "\n",
    "sortnumbers([\"3h\", \"5h\", \"5s\", \"3h\", \"5d\"])"
   ]
  },
  {
   "cell_type": "code",
   "execution_count": 6,
   "id": "b848bfef-9b67-47a1-b8ba-9dd219d139e2",
   "metadata": {},
   "outputs": [
    {
     "name": "stdout",
     "output_type": "stream",
     "text": [
      "('straight flush', 9)\n"
     ]
    }
   ],
   "source": [
    "#this function produces a tuple with the type of hand and a 'hand value'. 10 is best(royal flush). 1 is worst(nothing)\n",
    "\n",
    "def determinehand(hand):\n",
    "    #create object containing number values\n",
    "    numbers = sortnumbers(hand)\n",
    "    #create object containing value counts\n",
    "    count = countnumbers(hand)\n",
    "    #create boolean object. true if hand is a straight, false otherwise\n",
    "    straight = straightcheck(hand)\n",
    "    #create boolean object. true if hand is a flush, false otherwise\n",
    "    flush = isflush(hand)\n",
    "    #check if flush\n",
    "    if flush:\n",
    "        #check if flush and straight and high card is Ace\n",
    "        if straight and numbers[4] == '14':\n",
    "            return ('royal flush',10)\n",
    "        #check if flush and straight\n",
    "        if straight:\n",
    "            return ('straight flush',9)\n",
    "    #check if most common value occurs 4 times\n",
    "    if count[0][1] == 4:\n",
    "        return ('four of a kind', 8)\n",
    "    #check if most common value occurs 3 times and 2nd most common value occurs 2 times\n",
    "    if count[0][1] == 3 and count[1][1] == 2:\n",
    "        return ('full house',7)\n",
    "    #check again if flush\n",
    "    if flush:\n",
    "        return ('flush',6)\n",
    "    #check if straight\n",
    "    if straight:\n",
    "            return ('straight',5)\n",
    "    #check if most common value occurs 3 times\n",
    "    if count[0][1] == 3:\n",
    "        return ('three of a kind',4)\n",
    "    #check if most common and 2nd most common value occur 2 times\n",
    "    if count[0][1] == 2 and count[1][1] == 2:\n",
    "        return ('two pair',3)\n",
    "    #check if most common value occurs 2 times\n",
    "    if count[0][1] == 2:\n",
    "        return ('pair',2)\n",
    "    #return nothing if no special hand is detected\n",
    "    else:\n",
    "        return ('nothing',1)\n",
    "    \n",
    "print(determinehand([\"10d\", \"8d\", \"9d\", \"7d\", \"6d\"]))"
   ]
  },
  {
   "cell_type": "code",
   "execution_count": 7,
   "id": "6a7b6f53-066e-4dc9-a41c-2f2238494c37",
   "metadata": {},
   "outputs": [],
   "source": [
    "#from random import shuffle\n",
    "#from random import randint\n",
    "\n",
    "#creating deck object: list of all cards in the deck\n",
    "deck = ['2h', '3h', '4h', '5h', '6h', '7h', '8h', '9h', '10h', 'Jh', 'Qh', 'Kh', 'Ah', '2d', '2s', '2c', '3d', '3s', '3c', '4d', '4s', '4c',\n",
    "            '5d', '5s', '5c', '6d', '6s', '6c', '7d', '7s', '7c', '8d', '8s', '8c', '9d', '9s', '9c', '10d', '10s', '10c', 'Jd', 'Js', 'Jc',\n",
    "            'Qd', 'Qs', 'Qc', 'Kd', 'Ks', 'Kc', 'Ad', 'As', 'Ac']\n",
    "#creating possible opponents object: list of names you can play against\n",
    "\n",
    "people = ['Dwight','Meg','Claudette','Jake','Nea','Laurie','Ace','William','Feng','David','Quentin','Kate','Adam','Jeffrey','Jane','Ash','Nancy','Steve','Yui',\n",
    "           'Zarina','Cheryl','Felix','Élodie','Yun-Jin','Jill','Leon','Mikaela','Jonah','Yoichi','Haddie','Ada','Rebecca']\n",
    "\n",
    "\n"
   ]
  },
  {
   "cell_type": "code",
   "execution_count": 8,
   "id": "f40c90ae-d3b6-48ad-afa3-b4569dbe8369",
   "metadata": {},
   "outputs": [],
   "source": [
    "\n",
    "#player is asked their name and player dict object is created\n",
    "def welcome():\n",
    "    x = input(\"what's your name?\")\n",
    "    #ensure player object and changes to it persist\n",
    "    global player\n",
    "    #player's money\n",
    "    player = {'chips': 1000}\n",
    "    #player's name\n",
    "    player['name'] = x\n",
    "    #player's total bet for a given round\n",
    "    player['contrib'] = 0\n",
    "    #player's hand\n",
    "    player['hand'] = (None,1)\n",
    "    #cards player is holding\n",
    "    player['cards'] = []\n",
    "    #how much more money player needs to bet to stay in the round\n",
    "    player['owed'] = 0\n",
    "    #boolean object, equals True if player has folded\n",
    "    player['folded'] = False\n",
    "    #Bluff threshhold, this is actually an AI feature and doesn't impact the player\n",
    "    player['bthresh'] = 0\n",
    "    #numerical values of cards player is holding\n",
    "    player['nums'] = 0\n",
    "    print(\"welcome\", x)\n",
    "#welcome()\n"
   ]
  },
  {
   "cell_type": "code",
   "execution_count": 9,
   "id": "42ec1322-ccea-464e-ad6e-832a165069fd",
   "metadata": {},
   "outputs": [],
   "source": [
    "#list of cards on the table\n",
    "table = []\n",
    "#amount players need to bet to stay in the game\n",
    "bets = 0\n",
    "#total money on the table\n",
    "pot = 0\n",
    "#players who have folded recently\n",
    "foldlist = []"
   ]
  },
  {
   "cell_type": "code",
   "execution_count": 10,
   "id": "6c6bedc4-0f48-4a82-ba10-f8d08975e30b",
   "metadata": {},
   "outputs": [
    {
     "name": "stdin",
     "output_type": "stream",
     "text": [
      "How many opponents you lookin'to bankrupt?(3 to 5) 3\n"
     ]
    }
   ],
   "source": [
    "#This function generates the player's opponents\n",
    "\n",
    "def createplayers(x = input(\"How many opponents you lookin'to bankrupt?(3 to 5)\")):\n",
    "    x = int(x)\n",
    "    #create randomized list of opponent names\n",
    "    shuffle(people)\n",
    "    y = []\n",
    "    for i in range(x):\n",
    "        y.append(people[i])\n",
    "    #create opponent objects and ensure they persist\n",
    "    global opps,opp1,opp2,opp3,opp4,opp5,players1\n",
    "    opp1,opp2,opp3,opp4,opp5 = {},{},{},{},{}\n",
    "\n",
    "    opps = (opp1,opp2,opp3,opp4,opp5)\n",
    "    #generate opponent attributes and assign the random names\n",
    "    for a,b in zip(y,opps):\n",
    "        #give opponents all the attributes the player has\n",
    "        b['name'],b['chips'],b['contrib'],b['hand'],b['cards'],b['bthresh'], b['owed'], b['folded'],b['nums'] = a, 1000, 0, (None,1), [], 0, 0, False, 0\n",
    "        #hthresh = hand threshhold. semi randomly decides how good the AI's hand needs to be to bet certain amounts\n",
    "        b['hthresh1'],b['hthresh2'],b['hthresh3'] = randint(2,3), randint(4,5), randint(6,7)\n",
    "        #rthresh = risk threshold. semi randomly decides how much the AI is willing to bet for given hands\n",
    "        b['rthresh1'],b['rthresh2'],b['rthresh3'],b['rthresh4'] = randint(50,100), randint(101,300), randint(301,600), randint(601,1000)\n",
    "        \n",
    "        \n",
    "    #reduce opponents based on player's choice    \n",
    "    opps = opps[:len(y)]\n",
    "    #create list that includes both player and AI opponants\n",
    "    players1 = [player] + list(opps)\n",
    "    print('Your opponents are ', end = '')\n",
    "    for i in y[0:len(y)-1]:\n",
    "        print(i + ', ', end = '')\n",
    "    print('and ' + y[-1] + '.')\n",
    "#test code    \n",
    "#createplayers()\n",
    "\n",
    "#make sure player is list is created properly\n",
    "#print(players1)"
   ]
  },
  {
   "cell_type": "code",
   "execution_count": 18,
   "id": "c3f85f34-a53d-4f34-96b7-232fa43e6704",
   "metadata": {
    "tags": []
   },
   "outputs": [
    {
     "data": {
      "text/plain": [
       "(('2h', '3h', '4h', '5h', '6h'),\n",
       " ('2h', '3h', '4h', '5h', '7h'),\n",
       " ('2h', '3h', '4h', '5h', '8h'),\n",
       " ('2h', '3h', '4h', '6h', '7h'),\n",
       " ('2h', '3h', '4h', '6h', '8h'),\n",
       " ('2h', '3h', '4h', '7h', '8h'),\n",
       " ('2h', '3h', '5h', '6h', '7h'),\n",
       " ('2h', '3h', '5h', '6h', '8h'),\n",
       " ('2h', '3h', '5h', '7h', '8h'),\n",
       " ('2h', '3h', '6h', '7h', '8h'),\n",
       " ('2h', '4h', '5h', '6h', '7h'),\n",
       " ('2h', '4h', '5h', '6h', '8h'),\n",
       " ('2h', '4h', '5h', '7h', '8h'),\n",
       " ('2h', '4h', '6h', '7h', '8h'),\n",
       " ('2h', '5h', '6h', '7h', '8h'),\n",
       " ('3h', '4h', '5h', '6h', '7h'),\n",
       " ('3h', '4h', '5h', '6h', '8h'),\n",
       " ('3h', '4h', '5h', '7h', '8h'),\n",
       " ('3h', '4h', '6h', '7h', '8h'),\n",
       " ('3h', '5h', '6h', '7h', '8h'),\n",
       " ('4h', '5h', '6h', '7h', '8h'))"
      ]
     },
     "execution_count": 18,
     "metadata": {},
     "output_type": "execute_result"
    }
   ],
   "source": [
    "#some practice code to generate all hand combos between player's cards and the table cards\n",
    "from itertools import combinations\n",
    "tuple(combinations(['2h', '3h', '4h', '5h', '6h', '7h', '8h'], r = 5))"
   ]
  },
  {
   "cell_type": "code",
   "execution_count": 19,
   "id": "18d38b8a-4065-4450-ac50-4ca60e968503",
   "metadata": {},
   "outputs": [],
   "source": [
    "#this function governs the AI's behavior when it is their turn to take an action\n",
    "def aibetting(x):\n",
    "    #persist the variables\n",
    "    global bets, players2, players1, pot\n",
    "    #check if AI needs to bet more to stay in the game\n",
    "    x['owed'] = bets - x['contrib']\n",
    "    #check hand value and determine how much the AI will risk based on that\n",
    "    if x['hand'][1] >= x['hthresh3']:\n",
    "        y = x['rthresh4']\n",
    "    elif x['hand'][1] >= x['hthresh2']:\n",
    "        y = x['rthresh3']\n",
    "    elif x['hand'][1] >= x['hthresh1']:\n",
    "        y = x['rthresh2']\n",
    "    else:\n",
    "        y = x['rthresh1']\n",
    "    #give the AI a 1/5 chance to enter bluff mode for the round\n",
    "    if x['bthresh'] == 0:\n",
    "        z = randint(1,15)\n",
    "        if z == 15:\n",
    "            x['bthresh'] = x['rthresh4']\n",
    "        elif z == 14:\n",
    "            x['bthresh'] = x['rthresh3']\n",
    "        elif z == 13:\n",
    "            x['bthresh'] = x['rthresh2']\n",
    "    #make sure bluff mode persists until a new hand is dealt\n",
    "    if y < x['bthresh']:\n",
    "        y = x['bthresh']\n",
    "    #if required bets exceeds 1.5 times the AI's risk threshhold they fold\n",
    "    if bets > int(y * 1.5):\n",
    "        print(x['name'] + ': Too rich for my blood. I fold')\n",
    "        x['owed'] = 0\n",
    "        x['contrib'] = 0\n",
    "        x['folded'] = True\n",
    "        foldlist.append(x)\n",
    "    #if required bets between .7 times and 1.5 times the AI's risk threshhold they call\n",
    "    if int(y * 0.7) <= bets <= int(y * 1.5) and x['owed'] > 0:\n",
    "        print(x['name'] + ': I call.')\n",
    "        pot += x['owed']\n",
    "        x['contrib'] = bets\n",
    "        x['chips'] -= x['owed']\n",
    "        x['owed'] = 0\n",
    "    #if required bets between .7 times and 1.5 times the AI's risk threshhold and they don't owe additional chips they check\n",
    "    elif int(y * 0.7) <= bets <= int(y * 1.5) and x['owed'] == 0:\n",
    "        print(x['name'] + ': I check.')\n",
    "    #if required bets less than .7 times the AI's risk threshhold they raise\n",
    "    if bets < int(y * 0.7):\n",
    "        z = int(y * 0.7) - bets \n",
    "        print(x['name'] + ': I raise',z)\n",
    "        bets += z\n",
    "        pot += x['owed'] + z\n",
    "        x['contrib'] = bets\n",
    "        x['chips'] -= x['owed'] + z\n",
    "        x['owed'] = 0\n",
    "    print(x['name'] + ' has', x['chips'], 'left')"
   ]
  },
  {
   "cell_type": "code",
   "execution_count": 20,
   "id": "a8589aaa-fe8a-4aae-9ba8-81bc0a9633bf",
   "metadata": {},
   "outputs": [],
   "source": [
    "#this function asks the player for their choice of action when it is their turn\n",
    "#if they player is oweing, they may call, raise, fold\n",
    "#if the player is not oweing, they may check or raise\n",
    "\n",
    "def pbetting():\n",
    "    global player, bets, players2, players1, foldlist, pot\n",
    "    player['owed'] = bets - player['contrib']\n",
    "    print('you have', player['chips'], 'remaining')\n",
    "    #checks if player is oweing\n",
    "    if player['owed'] > 0:\n",
    "        #If player is oweing, has a chance to call, raise or fold\n",
    "        choice = input('call, raise or fold(type exactly as shown). calling would cost you '+ str(player['owed']) + ' chips')\n",
    "        if choice == 'call':\n",
    "            pot += player['owed']\n",
    "            player['chips'] -= player['owed']\n",
    "            player['contrib'] += player['owed']\n",
    "            player['owed'] = 0\n",
    "            print('you called')\n",
    "        elif choice == 'raise':\n",
    "            raised = input('you call ' + str(player['owed']) + ' and raise how many chips?')\n",
    "            raised = int(raised)\n",
    "            pot += player['owed'] + raised\n",
    "            player['chips'] -= player['owed'] + raised\n",
    "            player['contrib'] += player['owed'] + raised\n",
    "            player['owed'] = 0\n",
    "            bets += raised\n",
    "            print('you called',player['owed'], 'and raised',raised)\n",
    "        elif choice == 'fold':\n",
    "            player['contrib'] = 0\n",
    "            player['owed'] = 0\n",
    "            player['folded'] = True\n",
    "            print('you folded')\n",
    "            foldlist.append(player)\n",
    "    elif player['owed'] == 0:\n",
    "        #if player not oweing, has chance to check or raise\n",
    "        choice = input('check or raise?(type exactly as shown)')\n",
    "        if choice == 'check':\n",
    "            print('you check')\n",
    "        elif choice == 'raise':\n",
    "            raised = input('you raise how many chips?')\n",
    "            raised = int(raised)\n",
    "            pot += player['owed'] + raised\n",
    "            player['chips'] -= player['owed'] + raised\n",
    "            player['contrib'] += player['owed'] + raised\n",
    "            player['owed'] = 0\n",
    "            bets += raised\n",
    "            print('you called and raised',raised)\n",
    "            "
   ]
  },
  {
   "cell_type": "code",
   "execution_count": 21,
   "id": "8cf9be5a-9a8b-4af8-9b49-cc8e61c9bf0e",
   "metadata": {},
   "outputs": [],
   "source": [
    "#this function checks if everyone has either folded or bet enough to stay in the game\n",
    "def checksettled():\n",
    "    #persist variables\n",
    "    global players2, bets\n",
    "    #assume everyone has bet enouph or folded\n",
    "    x = True\n",
    "    for i in players2:\n",
    "        #determine what each player owes\n",
    "        i['owed'] = bets - i['contrib']\n",
    "        #if any player is not settled, the function returns false\n",
    "        if i['owed'] != 0 and i['folded'] == False:\n",
    "            x = False\n",
    "    return x"
   ]
  },
  {
   "cell_type": "code",
   "execution_count": 22,
   "id": "c99fed7c-b897-4ea7-9ae9-bb7b7ba30fc4",
   "metadata": {
    "tags": []
   },
   "outputs": [],
   "source": [
    "table = []\n",
    "bets = 0\n",
    "pot = 0\n",
    "foldlist = []\n",
    "\n",
    "#this function governs phase 1.\n",
    "#cards are dealt, blinds are paid, and first round of betting occurs\n",
    "def round1():\n",
    "    global pot, bets, players2, players1, player, foldlist, deck\n",
    "    #blinds get paid\n",
    "    players1[1]['contrib'] += 25\n",
    "    players1[1]['chips'] -= 25\n",
    "    players1[2]['contrib'] += 50\n",
    "    players1[2]['chips'] -= 50\n",
    "    bets += 50\n",
    "    pot += 75\n",
    "    print(players1[1]['name'], 'pays small blind:', 25)\n",
    "    print(players1[2]['name'], 'pays big blind:', 50)\n",
    "    player['owed'] = 50\n",
    "    #shuffle deck\n",
    "    shuffle(deck)\n",
    "    #deal cards\n",
    "    for i in players1:\n",
    "        i['cards'].append(deck[0])\n",
    "        i['cards'].append(deck[1])\n",
    "        deck.pop(0)\n",
    "        deck.pop(0)\n",
    "    print('You are holding', player['cards'], '.')\n",
    "    players2 = players1[3:] + players1[:3]\n",
    "    #settled determines if the game can move to the next phase\n",
    "    settled = False\n",
    "    #this variable ensures everyone gets at least one chance to take an action for each phase\n",
    "    loopcount = 0\n",
    "    #this loop ensures betting continues until everyone has had a chance to take an action and everyone is settled\n",
    "    while settled == False:\n",
    "        for i in players2:\n",
    "            if i == player:\n",
    "                pbetting()\n",
    "            else:\n",
    "                aibetting(i)\n",
    "            settled = checksettled()\n",
    "            #stops betting if everyone has had a chance to take an action and everyone is settled\n",
    "            if settled and loopcount:\n",
    "                break\n",
    "        #remove folded players from the round\n",
    "        for i in foldlist:\n",
    "            players2.remove(i)\n",
    "        foldlist = []\n",
    "        loopcount = 1\n",
    "        #settled = checksettled()\n",
    "    print('You are holding', player['cards'], '.')\n",
    "    print('The pot contains', pot, 'chips.')\n",
    "    \n",
    "#round1()\n",
    "#print([players1[i]['name'] for i in range(len(players1))],[players2[i]['name'] for i in range(len(players2))])\n",
    "    \n",
    "    \n",
    "    \n",
    "    \n",
    "    \n",
    "    "
   ]
  },
  {
   "cell_type": "code",
   "execution_count": 23,
   "id": "b8bc54f8-24d2-4b9d-a1f6-73bf6b74cfc5",
   "metadata": {},
   "outputs": [],
   "source": [
    "#second phase of a round\n",
    "\n",
    "def round2():\n",
    "    global pot, players2, table, bets, foldlist, deck, player\n",
    "    #deal 1st 3 cards to table\n",
    "    for i in range(3):\n",
    "        table.append(deck[0])\n",
    "        deck.pop(0)\n",
    "    print('The table cards are', table)\n",
    "    #this code determines what hand a player has if any\n",
    "    for i in players2:\n",
    "        i['hand'] = determinehand(i['cards'] + table)\n",
    "    print('You have', player['hand'][0], '.')\n",
    "    settled = False\n",
    "    loopcount = 0\n",
    "    #betting functions same as first phase\n",
    "    while settled == False:\n",
    "        for i in players2:\n",
    "            if i == player:\n",
    "                pbetting()\n",
    "            else:\n",
    "                aibetting(i)\n",
    "            settled = checksettled()\n",
    "            if settled and loopcount:\n",
    "                break\n",
    "        for i in foldlist:\n",
    "            players2.remove(i)\n",
    "        foldlist = []\n",
    "        loopcount = 1\n",
    "    print('The pot contains', pot, 'chips.')\n",
    "    \n",
    "    \n",
    "#round2()\n",
    "    "
   ]
  },
  {
   "cell_type": "code",
   "execution_count": 24,
   "id": "9757e190-1c4f-4564-85eb-00adc48d5ebc",
   "metadata": {},
   "outputs": [],
   "source": [
    "def round3():\n",
    "    global pot, players2, table, bets, foldlist, deck, player\n",
    "    #deal 1 more card to the table\n",
    "    table.append(deck[0])\n",
    "    deck.pop(0)\n",
    "    print('The table cards are', table)\n",
    "    #check all combinations of cards between table and player cards for each player and determine the best hand\n",
    "    for i in players2:\n",
    "        for y in tuple(combinations(i['cards'] + table, r = 5)):\n",
    "            x = determinehand(list(y))\n",
    "            if i['hand'][1] < x[1]:\n",
    "                i['hand'] = x\n",
    "        \n",
    "    print('You have', player['hand'][0], '.')\n",
    "    settled = False\n",
    "    loopcount = 0\n",
    "    #betting is the same as phase 1 and 2\n",
    "    while settled == False:\n",
    "        for i in players2:\n",
    "            if i == player:\n",
    "                pbetting()\n",
    "            else:\n",
    "                aibetting(i)\n",
    "            settled = checksettled()\n",
    "            if settled and loopcount:\n",
    "                break\n",
    "        for i in foldlist:\n",
    "            players2.remove(i)\n",
    "        foldlist = []\n",
    "        loopcount = 1\n",
    "    print('The pot contains', pot, 'chips.')\n",
    "#round3()"
   ]
  },
  {
   "cell_type": "code",
   "execution_count": 25,
   "id": "670d074a-cc1d-44bf-adc8-2b6da6b5c003",
   "metadata": {},
   "outputs": [],
   "source": [
    "def round4():\n",
    "    global pot, players2, table, bets, foldlist, deck, player\n",
    "    #deals 1 more card to the table\n",
    "    table.append(deck[0])\n",
    "    deck.pop(0)\n",
    "    print('The table cards are', table)\n",
    "    #check all combinations of cards between table and player cards for each player and determine the best hand\n",
    "    for i in players2:\n",
    "        for y in tuple(combinations(i['cards'] + table, r = 5)):\n",
    "            x = determinehand(list(y))\n",
    "            if i['hand'][1] < x[1]:\n",
    "                i['hand'] = x\n",
    "        \n",
    "    print('You have', player['hand'][0], '.')\n",
    "    settled = False\n",
    "    loopcount = 0\n",
    "    #betting is the same as all previous phases\n",
    "    while settled == False:\n",
    "        for i in players2:\n",
    "            if i == player:\n",
    "                pbetting()\n",
    "            else:\n",
    "                aibetting(i)\n",
    "            settled = checksettled()\n",
    "            if settled and loopcount:\n",
    "                break\n",
    "        for i in foldlist:\n",
    "            players2.remove(i)\n",
    "        foldlist = []\n",
    "        loopcount = 1\n",
    "    print('The pot contains', pot, 'chips.')\n",
    "#round4()"
   ]
  },
  {
   "cell_type": "code",
   "execution_count": 26,
   "id": "72097844-aab7-47fa-b123-8b00f3d389aa",
   "metadata": {},
   "outputs": [],
   "source": [
    "def findwinner():\n",
    "    global pot, players2, table, bets, foldlist, deck, player\n",
    "    #create list of hand ranks\n",
    "    hands = [i['hand'][1] for i in players2]\n",
    "    #get highest hand value at the table\n",
    "    x = max(hands)\n",
    "    #get the indices of the highest hand values\n",
    "    whands = [(i,y) for i,y in enumerate(hands) if y == x]\n",
    "    #seperate indices from values\n",
    "    windices = [i[0] for i in whands]\n",
    "    #checking for tie\n",
    "    if len(windices) > 1:\n",
    "        #convert tied players cards to numerical values\n",
    "        for i in windices:\n",
    "            players2[i]['nums'] = convertnumbers(players2[i]['cards'])\n",
    "        #check value of players' 1st card against greatest value among all 1st cards\n",
    "        windices = [i for i in windices if players2[i]['nums'][0] == max([y['nums'][0] for y in players2])]\n",
    "        #check if still a tie\n",
    "        if len(windices) > 1:\n",
    "            #check value of players' 2nd card against greatest value among all 2nd cards\n",
    "            windices = [i for i in windices if players2[i]['nums'][1] == max([y['nums'][1] for y in players2])]\n",
    "            #check if still a tie\n",
    "            if len(windices) > 1:\n",
    "                #split pot between players\n",
    "                statement = 'Tie Between '+ players2[windices[0]]['name']\n",
    "                for i in windices[1:]:\n",
    "                    statement += ' and ' + players2[i]['name']\n",
    "                print(statement)\n",
    "                pot //= len(windices)\n",
    "                for i in windices:\n",
    "                    players2[i]['chips'] += pot\n",
    "                print('Each winner wins', pot, 'chips')\n",
    "            #award pot to player who's 2nd card has highest value\n",
    "            else:\n",
    "                print(players2[windices[0]]['name'],'wins', pot, 'chips with', players2[windices[0]]['hand'][0])\n",
    "                players2[windices[0]]['chips'] += pot\n",
    "        #award pot to player who's 1st card has highest value\n",
    "        else:\n",
    "            print(players2[windices[0]]['name'],'wins', pot, 'chips with', players2[windices[0]]['hand'][0])\n",
    "            players2[windices[0]]['chips'] += pot\n",
    "    #award pot to winner if no tie\n",
    "    else:\n",
    "        print(players2[windices[0]]['name'],'wins', pot, 'chips with', players2[windices[0]]['hand'][0])\n",
    "        players2[windices[0]]['chips'] += pot\n",
    "        \n",
    "            \n",
    "   \n",
    "#findwinner()"
   ]
  },
  {
   "cell_type": "code",
   "execution_count": 27,
   "id": "dda76f46-864c-4fc5-9f16-fdf99380aeaf",
   "metadata": {},
   "outputs": [],
   "source": [
    "#print(players1)"
   ]
  },
  {
   "cell_type": "code",
   "execution_count": 28,
   "id": "600957ce-c447-4ba7-bc11-5948b7c45a68",
   "metadata": {},
   "outputs": [],
   "source": [
    "#this functions completes a round of poker\n",
    "\n",
    "def wrapup():\n",
    "    global pot, players2, table, bets, foldlist, deck, player, players1\n",
    "    #find players with no chips left\n",
    "    busted = [i for i in players1 if i['chips'] <= 0]\n",
    "    #remive broke players from game\n",
    "    players1 = [i for i in players1 if i not in busted]\n",
    "    for i in busted:\n",
    "        print(i['name'] + ' busts out.')\n",
    "    pot, table, bets = 0, [], 0\n",
    "    #resets the players for the next round\n",
    "    for b in players1:\n",
    "        b['contrib'],b['hand'],b['cards'],b['bthresh'], b['owed'], b['folded'],b['nums'] = 0, (None,1), [], 0, 0, False, 0\n",
    "    #reset the deck\n",
    "    deck = ['2h', '3h', '4h', '5h', '6h', '7h', '8h', '9h', '10h', 'Jh', 'Qh', 'Kh', 'Ah', '2d', '2s', '2c', '3d', '3s', '3c', '4d', '4s', '4c',\n",
    "            '5d', '5s', '5c', '6d', '6s', '6c', '7d', '7s', '7c', '8d', '8s', '8c', '9d', '9s', '9c', '10d', '10s', '10c', 'Jd', 'Js', 'Jc',\n",
    "            'Qd', 'Qs', 'Qc', 'Kd', 'Ks', 'Kc', 'Ad', 'As', 'Ac']\n",
    "    #change player for next round for the sake of blinds etc...\n",
    "    players1 = players1[1:] + players1[:1]\n",
    "        \n",
    "#wrapup()\n",
    "    "
   ]
  },
  {
   "cell_type": "code",
   "execution_count": 29,
   "id": "7a3a3666-bd0d-4586-88e9-b67af7860078",
   "metadata": {},
   "outputs": [],
   "source": [
    "#finally put all functions together into a texas holdem program\n",
    "def play_the_game():\n",
    "    #establish variables\n",
    "    table = []\n",
    "    bets = 0\n",
    "    pot = 0\n",
    "    foldlist = []\n",
    "    #initial set up\n",
    "    welcome()\n",
    "    createplayers()\n",
    "    #check if human player is broke or has won. repeat games if neither is true, continue the game\n",
    "    while player['chips'] > 0 and len(players1) > 1:\n",
    "        round1()\n",
    "        round2()\n",
    "        round3()\n",
    "        round4()\n",
    "        findwinner()\n",
    "        wrapup()\n",
    "    "
   ]
  },
  {
   "cell_type": "code",
   "execution_count": null,
   "id": "23ab7b81-4baa-4b64-86c3-80b7c349bf42",
   "metadata": {},
   "outputs": [
    {
     "name": "stdin",
     "output_type": "stream",
     "text": [
      "what's your name? Kevin\n"
     ]
    },
    {
     "name": "stdout",
     "output_type": "stream",
     "text": [
      "welcome Kevin\n",
      "Your opponents are Meg, Adam, and Ace.\n",
      "Meg pays small blind: 25\n",
      "Adam pays big blind: 50\n",
      "You are holding ['7d', 'Ac'] .\n",
      "Ace: I call.\n",
      "Ace has 950 left\n",
      "you have 1000 remaining\n"
     ]
    },
    {
     "name": "stdin",
     "output_type": "stream",
     "text": [
      "call, raise or fold(type exactly as shown). calling would cost you 50 chips call\n"
     ]
    },
    {
     "name": "stdout",
     "output_type": "stream",
     "text": [
      "you called\n",
      "Meg: I raise 5\n",
      "Meg has 945 left\n",
      "Adam: I call.\n",
      "Adam has 945 left\n",
      "Ace: I call.\n",
      "Ace has 945 left\n",
      "you have 950 remaining\n"
     ]
    },
    {
     "name": "stdin",
     "output_type": "stream",
     "text": [
      "call, raise or fold(type exactly as shown). calling would cost you 5 chips call\n"
     ]
    },
    {
     "name": "stdout",
     "output_type": "stream",
     "text": [
      "you called\n",
      "You are holding ['7d', 'Ac'] .\n",
      "The pot contains 220 chips.\n",
      "The table cards are ['6s', '2h', 'Kh']\n",
      "You have nothing .\n",
      "Ace: I check.\n",
      "Ace has 945 left\n",
      "you have 945 remaining\n"
     ]
    },
    {
     "name": "stdin",
     "output_type": "stream",
     "text": [
      "check or raise?(type exactly as shown) check\n"
     ]
    },
    {
     "name": "stdout",
     "output_type": "stream",
     "text": [
      "you check\n",
      "Meg: I raise 586\n",
      "Meg has 359 left\n",
      "Adam: Too rich for my blood. I fold\n",
      "Adam has 945 left\n",
      "Ace: Too rich for my blood. I fold\n",
      "Ace has 945 left\n",
      "you have 945 remaining\n"
     ]
    },
    {
     "name": "stdin",
     "output_type": "stream",
     "text": [
      "call, raise or fold(type exactly as shown). calling would cost you 586 chips call\n"
     ]
    },
    {
     "name": "stdout",
     "output_type": "stream",
     "text": [
      "you called\n",
      "The pot contains 1392 chips.\n",
      "The table cards are ['6s', '2h', 'Kh', 'Jd']\n",
      "You have nothing .\n",
      "you have 359 remaining\n"
     ]
    },
    {
     "name": "stdin",
     "output_type": "stream",
     "text": [
      "check or raise?(type exactly as shown) check\n"
     ]
    },
    {
     "name": "stdout",
     "output_type": "stream",
     "text": [
      "you check\n",
      "Meg: I check.\n",
      "Meg has 359 left\n",
      "The pot contains 1392 chips.\n",
      "The table cards are ['6s', '2h', 'Kh', 'Jd', 'Qs']\n",
      "You have nothing .\n",
      "you have 359 remaining\n"
     ]
    },
    {
     "name": "stdin",
     "output_type": "stream",
     "text": [
      "check or raise?(type exactly as shown) check\n"
     ]
    },
    {
     "name": "stdout",
     "output_type": "stream",
     "text": [
      "you check\n",
      "Meg: I check.\n",
      "Meg has 359 left\n",
      "The pot contains 1392 chips.\n",
      "Meg wins 1392 chips with pair\n",
      "Adam pays small blind: 25\n",
      "Ace pays big blind: 50\n",
      "You are holding ['5s', '5h'] .\n",
      "you have 359 remaining\n"
     ]
    }
   ],
   "source": [
    "#test it out!\n",
    "play_the_game()"
   ]
  },
  {
   "cell_type": "code",
   "execution_count": null,
   "id": "b8b07502-5849-4a21-a006-1374d20514cc",
   "metadata": {},
   "outputs": [],
   "source": []
  }
 ],
 "metadata": {
  "kernelspec": {
   "display_name": "Python 3 (ipykernel)",
   "language": "python",
   "name": "python3"
  },
  "language_info": {
   "codemirror_mode": {
    "name": "ipython",
    "version": 3
   },
   "file_extension": ".py",
   "mimetype": "text/x-python",
   "name": "python",
   "nbconvert_exporter": "python",
   "pygments_lexer": "ipython3",
   "version": "3.8.12"
  }
 },
 "nbformat": 4,
 "nbformat_minor": 5
}
