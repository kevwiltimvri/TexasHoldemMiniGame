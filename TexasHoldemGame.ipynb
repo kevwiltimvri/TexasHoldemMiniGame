{
 "cells": [
  {
   "cell_type": "code",
   "execution_count": 1,
   "id": "7757b410-f278-4fb1-9a7c-77b5a5b40e35",
   "metadata": {},
   "outputs": [
    {
     "name": "stdout",
     "output_type": "stream",
     "text": [
      "[(10, 3), (9, 2)]\n",
      "4\n"
     ]
    }
   ],
   "source": [
    "from collections import Counter\n",
    "from random import shuffle\n",
    "from random import randint\n",
    "from itertools import combinations\n",
    "\n",
    "#this function produces a list of tuples, the first item of each tuple being a card value, and the second item being the number of times that value occurs in the given hand\n",
    "\n",
    "def countnumbers(hand):\n",
    "    numbers = []\n",
    "    for i in hand:\n",
    "        numbers.append(i[:-1])\n",
    "    for i in range(len(numbers)):\n",
    "        if numbers[i] == 'J':\n",
    "            numbers[i] = '11'\n",
    "        elif numbers[i] == 'Q':\n",
    "            numbers[i] = '12'\n",
    "        elif numbers[i] == 'K':\n",
    "            numbers[i] = '13'\n",
    "        elif numbers[i] == 'A':\n",
    "            numbers[i] = '14'\n",
    "    for i in range(len(numbers)):\n",
    "        numbers[i] = int(numbers[i])\n",
    "    numbers.sort(reverse = False)\n",
    "    x = Counter(numbers)\n",
    "    return Counter.most_common(x)\n",
    "  \n",
    "#test code    \n",
    "\n",
    "print(countnumbers([\"10s\", \"9c\", \"9d\", \"10d\", \"10h\"]))  \n",
    "\n",
    "print(countnumbers([\"10s\", \"10c\", \"8d\", \"10d\", \"10h\"])[0][1])"
   ]
  },
  {
   "cell_type": "code",
   "execution_count": 2,
   "id": "7c7da835-371b-4f01-b753-0124312a66d9",
   "metadata": {},
   "outputs": [
    {
     "data": {
      "text/plain": [
       "True"
      ]
     },
     "execution_count": 2,
     "metadata": {},
     "output_type": "execute_result"
    }
   ],
   "source": [
    "#this function determines if the hand is a 'straight'\n",
    "\n",
    "def straightcheck(hand):\n",
    "    straight = False\n",
    "    count = countnumbers(hand)\n",
    "    if count [0][1] == 1:\n",
    "        x = True\n",
    "        for i in range(len(count)-1):\n",
    "            if count[i][0] != count[i+1][0]-1:\n",
    "                x = False\n",
    "        straight = x\n",
    "    return straight\n",
    "straightcheck([\"1s\", \"2c\", \"4d\", \"5d\", \"3h\"])"
   ]
  },
  {
   "cell_type": "code",
   "execution_count": 3,
   "id": "71d74503-6aa5-48e6-9dd2-e492a3b909cb",
   "metadata": {},
   "outputs": [
    {
     "data": {
      "text/plain": [
       "True"
      ]
     },
     "execution_count": 3,
     "metadata": {},
     "output_type": "execute_result"
    }
   ],
   "source": [
    "#this function determines if the hand is a 'flush'\n",
    "\n",
    "def isflush(hand):\n",
    "    suitlist = []\n",
    "    for i in hand:\n",
    "        suitlist.append(i[-1])\n",
    "    x = Counter(suitlist)\n",
    "    return Counter.most_common(x)[0][1] == 5\n",
    "    #return x[hand[1][-1]] == 5\n",
    "isflush([\"10h\", \"Jh\", \"Qh\", \"Ah\", \"Kh\"])"
   ]
  },
  {
   "cell_type": "code",
   "execution_count": 4,
   "id": "b2d30d4d-eebb-48fc-92e0-9b1601856a58",
   "metadata": {},
   "outputs": [
    {
     "data": {
      "text/plain": [
       "['3', '3', '5', '5', '5']"
      ]
     },
     "execution_count": 4,
     "metadata": {},
     "output_type": "execute_result"
    }
   ],
   "source": [
    "#this function orders values of the cards in hand\n",
    "\n",
    "def sortnumbers(hand):\n",
    "    numbers = []\n",
    "    for i in hand:\n",
    "        numbers.append(i[0:-1])\n",
    "    for i in range(len(numbers)):\n",
    "        if numbers[i] == 'J':\n",
    "            numbers[i] = '11'\n",
    "        elif numbers[i] == 'Q':\n",
    "            numbers[i] = '12'\n",
    "        elif numbers[i] == 'K':\n",
    "            numbers[i] = '13'\n",
    "        elif numbers[i] == 'A':\n",
    "            numbers[i] = '14'\n",
    "    numbers.sort(reverse = False)\n",
    "    return numbers\n",
    "\n",
    "sortnumbers([\"3h\", \"5h\", \"5s\", \"3h\", \"5d\"])"
   ]
  },
  {
   "cell_type": "code",
   "execution_count": 5,
   "id": "b848bfef-9b67-47a1-b8ba-9dd219d139e2",
   "metadata": {},
   "outputs": [
    {
     "name": "stdout",
     "output_type": "stream",
     "text": [
      "('straight', 5)\n"
     ]
    }
   ],
   "source": [
    "#this function determines the type of hand and assigns a 'hand value'. 10 is best(royal flush). 1 is worst(nothing)\n",
    "\n",
    "def determinehand(hand):\n",
    "    numbers = sortnumbers(hand)\n",
    "    count = countnumbers(hand)\n",
    "    straight = straightcheck(hand)\n",
    "    flush = isflush(hand)\n",
    "    if flush:\n",
    "        if straight and numbers[4] == '14':\n",
    "            return ('royal flush',10)\n",
    "        if straight:\n",
    "            return ('straight flush',9)\n",
    "    if count[0][1] == 4:\n",
    "        return ('four of a kind', 8)\n",
    "    if count[0][1] == 3 and count[1][1] == 2:\n",
    "        return ('full house',7)\n",
    "    if flush:\n",
    "        return ('flush',6)\n",
    "    if straight:\n",
    "            return ('straight',5)\n",
    "    if count[0][1] == 3:\n",
    "        return ('three of a kind',4)\n",
    "    if count[0][1] == 2 and count[1][1] == 2:\n",
    "        return ('two pair',3)\n",
    "    if count[0][1] == 2:\n",
    "        return ('pair',2)\n",
    "    else:\n",
    "        return ('nothing',1)\n",
    "    \n",
    "print(determinehand([\"10d\", \"8d\", \"9d\", \"7h\", \"6d\"]))"
   ]
  },
  {
   "cell_type": "code",
   "execution_count": 6,
   "id": "6a7b6f53-066e-4dc9-a41c-2f2238494c37",
   "metadata": {},
   "outputs": [],
   "source": [
    "from random import shuffle\n",
    "from random import randint\n",
    "#creating players object\n",
    "\n",
    "deck = ['2h', '3h', '4h', '5h', '6h', '7h', '8h', '9h', '10h', 'Jh', 'Qh', 'Kh', 'Ah', '2d', '2s', '2c', '3d', '3s', '3c', '4d', '4s', '4c',\n",
    "            '5d', '5s', '5c', '6d', '6s', '6c', '7d', '7s', '7c', '8d', '8s', '8c', '9d', '9s', '9c', '10d', '10s', '10c', 'Jd', 'Js', 'Jc',\n",
    "            'Qd', 'Qs', 'Qc', 'Kd', 'Ks', 'Kc', 'Ad', 'As', 'Ac']\n",
    "#creating possible opponents object\n",
    "\n",
    "people = ['Dwight','Meg','Claudette','Jake','Nea','Laurie','Ace','William','Feng','David','Quentin','Kate','Adam','Jeffrey','Jane','Ash','Nancy','Steve','Yui',\n",
    "           'Zarina','Cheryl','Felix','Élodie','Yun-Jin','Jill','Leon','Mikaela','Jonah','Yoichi','Haddie','Ada','Rebecca']\n",
    "\n",
    "\n"
   ]
  },
  {
   "cell_type": "code",
   "execution_count": 7,
   "id": "f40c90ae-d3b6-48ad-afa3-b4569dbe8369",
   "metadata": {},
   "outputs": [
    {
     "name": "stdin",
     "output_type": "stream",
     "text": [
      "what's your name? Kevin\n"
     ]
    },
    {
     "name": "stdout",
     "output_type": "stream",
     "text": [
      "welcome Kevin\n",
      "Kevin\n",
      "{'chips': 1000, 'name': 'Kevin', 'contrib': 0, 'hand': None, 'cards': [], 'owed': 0}\n"
     ]
    }
   ],
   "source": [
    "'''def welcome(x = input(\"Hello there stranger, fancy some gamblin'?(yes/no)\")):\n",
    "    if x == 'no':\n",
    "        print('perhaps another time')\n",
    "    else:\n",
    "        print('welcome friend! remember no guns at the table!')\n",
    "        x = input(\"what's yer name city dweller\")\n",
    "        global player\n",
    "        player = {'chips': 1000}\n",
    "        player['name'] = x\n",
    "        player['contrib'] = 0\n",
    "        player['hand'] = None\n",
    "        player['cards'] = None\n",
    "        player['owed'] = 0\n",
    "        print(\"welcome\", x)'''\n",
    "def welcome():\n",
    "    x = input(\"what's your name?\")\n",
    "    global player\n",
    "    player = {'chips': 1000}\n",
    "    player['name'] = x\n",
    "    player['contrib'] = 0\n",
    "    player['hand'] = None\n",
    "    player['cards'] = []\n",
    "    player['owed'] = 0\n",
    "    print(\"welcome\", x)\n",
    "welcome()\n",
    "print(player['name'])\n",
    "print(player)"
   ]
  },
  {
   "cell_type": "code",
   "execution_count": 16,
   "id": "42ec1322-ccea-464e-ad6e-832a165069fd",
   "metadata": {},
   "outputs": [],
   "source": [
    "table = []\n",
    "bets = 0\n",
    "pot = 0\n",
    "folded = []"
   ]
  },
  {
   "cell_type": "code",
   "execution_count": 9,
   "id": "6c6bedc4-0f48-4a82-ba10-f8d08975e30b",
   "metadata": {},
   "outputs": [
    {
     "name": "stdin",
     "output_type": "stream",
     "text": [
      "How many opponents you lookin'to bankrupt?(3 to 5) 4\n"
     ]
    },
    {
     "name": "stdout",
     "output_type": "stream",
     "text": [
      "Your opponents are Jake, Yui, Cheryl, and Jeffrey.\n",
      "[{'chips': 1000, 'name': 'Kevin', 'contrib': 0, 'hand': None, 'cards': [], 'owed': 0}, {'name': 'Jake', 'chips': 1000, 'contrib': 0, 'hand': (None, 1), 'cards': [], 'hthresh1': 1, 'hthresh2': 5, 'hthresh3': 9, 'rthresh1': 58, 'rthresh2': 285, 'rthresh3': 338, 'rthresh4': 982}, {'name': 'Yui', 'chips': 1000, 'contrib': 0, 'hand': (None, 1), 'cards': [], 'hthresh1': 3, 'hthresh2': 7, 'hthresh3': 9, 'rthresh1': 79, 'rthresh2': 170, 'rthresh3': 397, 'rthresh4': 820}, {'name': 'Cheryl', 'chips': 1000, 'contrib': 0, 'hand': (None, 1), 'cards': [], 'hthresh1': 3, 'hthresh2': 5, 'hthresh3': 9, 'rthresh1': 52, 'rthresh2': 206, 'rthresh3': 331, 'rthresh4': 718}, {'name': 'Jeffrey', 'chips': 1000, 'contrib': 0, 'hand': (None, 1), 'cards': [], 'hthresh1': 2, 'hthresh2': 6, 'hthresh3': 8, 'rthresh1': 89, 'rthresh2': 131, 'rthresh3': 544, 'rthresh4': 919}]\n"
     ]
    }
   ],
   "source": [
    "def createplayers(x = input(\"How many opponents you lookin'to bankrupt?(3 to 5)\")):\n",
    "    x = int(x)\n",
    "    shuffle(people)\n",
    "    y = []\n",
    "    for i in range(x):\n",
    "        y.append(people[i])\n",
    "    global opps,opp1,opp2,opp3,opp4,opp5,players1\n",
    "    opp1,opp2,opp3,opp4,opp5 = {},{},{},{},{}\n",
    "\n",
    "    opps = (opp1,opp2,opp3,opp4,opp5)\n",
    "    for a,b in zip(y,opps):\n",
    "        b['name'],b['chips'],b['contrib'],b['hand'],b['cards'] = a, 1000, 0, (None,1), []\n",
    "        b['hthresh1'],b['hthresh2'],b['hthresh3'] = randint(1,4), randint(5,7), randint(8,9)\n",
    "        b['rthresh1'],b['rthresh2'],b['rthresh3'],b['rthresh4'] = randint(50,100), randint(101,300), randint(301,600), randint(601,1000)\n",
    "        \n",
    "        #b['owed'] = bets - b['contrib']\n",
    "        \n",
    "    opps = opps[:len(y)]\n",
    "    players1 = [player] + list(opps)\n",
    "    print('Your opponents are ', end = '')\n",
    "    for i in y[0:len(y)-1]:\n",
    "        print(i + ', ', end = '')\n",
    "    print('and ' + y[-1] + '.')\n",
    "    \n",
    "createplayers()\n",
    "print(players1)"
   ]
  },
  {
   "cell_type": "code",
   "execution_count": 10,
   "id": "c3f85f34-a53d-4f34-96b7-232fa43e6704",
   "metadata": {
    "tags": []
   },
   "outputs": [
    {
     "data": {
      "text/plain": [
       "(('2h', '3h', '4h', '5h', '6h'),\n",
       " ('2h', '3h', '4h', '5h', '7h'),\n",
       " ('2h', '3h', '4h', '5h', '8h'),\n",
       " ('2h', '3h', '4h', '6h', '7h'),\n",
       " ('2h', '3h', '4h', '6h', '8h'),\n",
       " ('2h', '3h', '4h', '7h', '8h'),\n",
       " ('2h', '3h', '5h', '6h', '7h'),\n",
       " ('2h', '3h', '5h', '6h', '8h'),\n",
       " ('2h', '3h', '5h', '7h', '8h'),\n",
       " ('2h', '3h', '6h', '7h', '8h'),\n",
       " ('2h', '4h', '5h', '6h', '7h'),\n",
       " ('2h', '4h', '5h', '6h', '8h'),\n",
       " ('2h', '4h', '5h', '7h', '8h'),\n",
       " ('2h', '4h', '6h', '7h', '8h'),\n",
       " ('2h', '5h', '6h', '7h', '8h'),\n",
       " ('3h', '4h', '5h', '6h', '7h'),\n",
       " ('3h', '4h', '5h', '6h', '8h'),\n",
       " ('3h', '4h', '5h', '7h', '8h'),\n",
       " ('3h', '4h', '6h', '7h', '8h'),\n",
       " ('3h', '5h', '6h', '7h', '8h'),\n",
       " ('4h', '5h', '6h', '7h', '8h'))"
      ]
     },
     "execution_count": 10,
     "metadata": {},
     "output_type": "execute_result"
    }
   ],
   "source": [
    "from itertools import combinations\n",
    "tuple(combinations(['2h', '3h', '4h', '5h', '6h', '7h', '8h'], r = 5))"
   ]
  },
  {
   "cell_type": "code",
   "execution_count": 11,
   "id": "1b517b38-7196-4b58-a4d6-acea4bb71701",
   "metadata": {},
   "outputs": [
    {
     "name": "stdout",
     "output_type": "stream",
     "text": [
      "1\n"
     ]
    }
   ],
   "source": [
    "x = randint(1,2)\n",
    "print(x)"
   ]
  },
  {
   "cell_type": "code",
   "execution_count": 29,
   "id": "18d38b8a-4065-4450-ac50-4ca60e968503",
   "metadata": {},
   "outputs": [],
   "source": [
    "def aibetting(x):\n",
    "    global bets, players2, players1\n",
    "    x['owed'] = bets - x['contrib']\n",
    "    if x['hand'][1] >= x['hthresh3']:\n",
    "        y = x['rthresh4']\n",
    "    elif x['hand'][1] >= x['hthresh2']:\n",
    "        y = x['rthresh3']\n",
    "    elif x['hand'][1] >= x['hthresh1']:\n",
    "        y = x['rthresh2']\n",
    "    else:\n",
    "        z = randint(1,9)\n",
    "        if z == 9:\n",
    "            y = x['rthresh4']\n",
    "        elif z == 8:\n",
    "            y = x['rthresh3']\n",
    "        elif z == 7:\n",
    "            y = x['rthresh2']\n",
    "        else:\n",
    "            y = x['rthresh1']\n",
    "    if bets > y:\n",
    "        print(x['name'] + ': Too rich for my blood. I fold')\n",
    "        x['owed'] = 0\n",
    "        x['contrib'] = 0\n",
    "        folded.append(x)\n",
    "    if y * 0.75 <= bets <= y:\n",
    "        print(x['name'] + ': I call.')\n",
    "        x['contrib'] = bets\n",
    "        x['chips'] -= x['owed']\n",
    "        x['owed'] = 0\n",
    "    if bets <= y * 0.75:\n",
    "        z = int(y * 0.9 - bets )\n",
    "        print(x['name'] + ': I raise',z)\n",
    "        bets += z\n",
    "        x['contrib'] = bets\n",
    "        x['chips'] -= x['owed'] + z\n",
    "        x['owed'] = 0\n",
    "    print(x['name'] + ' has', x['chips'], 'left')"
   ]
  },
  {
   "cell_type": "code",
   "execution_count": 30,
   "id": "a8589aaa-fe8a-4aae-9ba8-81bc0a9633bf",
   "metadata": {},
   "outputs": [],
   "source": [
    "def pbetting():\n",
    "    global player, bets, players2, players1, folded\n",
    "    player['owed'] = bets - player['contrib']\n",
    "    print('you have', player['chips'], 'remaining')\n",
    "    if player['owed'] > 0:\n",
    "        choice = input('call, raise or fold(type exactly as shown). calling would cost you '+ str(player['owed']) + ' chips')\n",
    "        if choice == 'call':\n",
    "            player['chips'] -= player['owed']\n",
    "            player['contrib'] += player['owed']\n",
    "            player['owed'] = 0\n",
    "            print('you called')\n",
    "        elif choice == 'raise':\n",
    "            raised = input('you call ' + str(player['owed']) + ' and raise how many chips?')\n",
    "            player['chips'] -= player['owed'] + raised\n",
    "            player['contrib'] += player['owed'] + raised\n",
    "            player['owed'] = 0\n",
    "            bets += raised\n",
    "            print('you called',player['owed'], 'and raised',raised)\n",
    "        elif choice == 'fold':\n",
    "            player['contrib'] = 0\n",
    "            player['owed'] = 0\n",
    "            print('you folded')\n",
    "            folded.append(player)\n",
    "    elif player['owed'] == 0 and player['contrib'] == 50:\n",
    "        choice = input('check or raise?(type exactly as shown)')\n",
    "        if choice == 'check':\n",
    "            print('you check')\n",
    "        elif choice == 'raise':\n",
    "            raised = input('you call ' + str(player['owed']) + ' and raise how many chips?')\n",
    "            player['chips'] -= player['owed'] + raised\n",
    "            player['contrib'] += player['owed'] + raised\n",
    "            player['owed'] = 0\n",
    "            bets += raised\n",
    "            print('you called and raised',raised)\n",
    "            "
   ]
  },
  {
   "cell_type": "code",
   "execution_count": 22,
   "id": "8cf9be5a-9a8b-4af8-9b49-cc8e61c9bf0e",
   "metadata": {},
   "outputs": [],
   "source": [
    "def checksettled():\n",
    "    global players2, bets\n",
    "    x = True\n",
    "    for i in players2:\n",
    "        i['owed'] = bets - i['contrib']\n",
    "        if i['owed'] != 0:\n",
    "            x = False\n",
    "    return x"
   ]
  },
  {
   "cell_type": "code",
   "execution_count": 32,
   "id": "c99fed7c-b897-4ea7-9ae9-bb7b7ba30fc4",
   "metadata": {
    "tags": []
   },
   "outputs": [
    {
     "name": "stdout",
     "output_type": "stream",
     "text": [
      "Jake pays small blind: 25\n",
      "Yui pays big blind: 50\n",
      "Cheryl: I call.\n",
      "Cheryl has 900 left\n",
      "Jeffrey: I raise 67\n",
      "Jeffrey has 723 left\n",
      "you have 744 remaining\n",
      "Jake: I raise 139\n",
      "Jake has 744 left\n",
      "Yui: Too rich for my blood. I fold\n",
      "Yui has 493 left\n",
      "Cheryl: Too rich for my blood. I fold\n",
      "Cheryl has 900 left\n",
      "Jeffrey: Too rich for my blood. I fold\n",
      "Jeffrey has 723 left\n",
      "you have 744 remaining\n",
      "Jake: I call.\n",
      "Jake has 744 left\n"
     ]
    }
   ],
   "source": [
    "table = []\n",
    "bets = 0\n",
    "pot = 0\n",
    "folded = []\n",
    "def round1():\n",
    "    global pot, bets, table, players2, players1, player, folded\n",
    "    \n",
    "    players1[1]['contrib'] += 25\n",
    "    players1[1]['chips'] -= 25\n",
    "    players1[2]['contrib'] += 50\n",
    "    players1[2]['chips'] -= 50\n",
    "    bets += 50\n",
    "    pot += 75\n",
    "    print(players1[1]['name'], 'pays small blind:', 25)\n",
    "    print(players1[2]['name'], 'pays big blind:', 50)\n",
    "    player['owed'] = 50\n",
    "        \n",
    "    players2 = players1[3:] + players1[:3]\n",
    "    settled = False\n",
    "    while settled == False:\n",
    "        for i in players2:\n",
    "            if i == player:\n",
    "                pbetting()\n",
    "            else:\n",
    "                aibetting(i)\n",
    "        for i in folded:\n",
    "            players2.remove(i)\n",
    "        folded = []\n",
    "        settled = checksettled()\n",
    "    \n",
    "round1()\n",
    "#print([players1[i]['name'] for i in range(len(players1))],[players2[i]['name'] for i in range(len(players2))])\n",
    "    \n",
    "    \n",
    "    \n",
    "    \n",
    "    \n",
    "    "
   ]
  },
  {
   "cell_type": "code",
   "execution_count": 56,
   "id": "7807491e-38c2-4ba3-8a6b-478db272eae4",
   "metadata": {},
   "outputs": [
    {
     "name": "stdout",
     "output_type": "stream",
     "text": [
      "Jake: Too rish for my blood. I fold\n"
     ]
    },
    {
     "ename": "ValueError",
     "evalue": "list.remove(x): x not in list",
     "output_type": "error",
     "traceback": [
      "\u001b[1;31m---------------------------------------------------------------------------\u001b[0m",
      "\u001b[1;31mValueError\u001b[0m                                Traceback (most recent call last)",
      "\u001b[1;32m~\\AppData\\Local\\Temp/ipykernel_21488/1666237653.py\u001b[0m in \u001b[0;36m<module>\u001b[1;34m\u001b[0m\n\u001b[0;32m      3\u001b[0m      'rthresh3': 490, 'rthresh4': 997}\n\u001b[0;32m      4\u001b[0m \u001b[1;33m\u001b[0m\u001b[0m\n\u001b[1;32m----> 5\u001b[1;33m \u001b[0mbetting\u001b[0m\u001b[1;33m(\u001b[0m\u001b[0mx\u001b[0m\u001b[1;33m,\u001b[0m \u001b[0mbets\u001b[0m \u001b[1;33m=\u001b[0m \u001b[1;36m200\u001b[0m\u001b[1;33m)\u001b[0m\u001b[1;33m\u001b[0m\u001b[1;33m\u001b[0m\u001b[0m\n\u001b[0m\u001b[0;32m      6\u001b[0m \u001b[0mprint\u001b[0m\u001b[1;33m(\u001b[0m\u001b[0mx\u001b[0m\u001b[1;33m)\u001b[0m\u001b[1;33m\u001b[0m\u001b[1;33m\u001b[0m\u001b[0m\n",
      "\u001b[1;32m~\\AppData\\Local\\Temp/ipykernel_21488/2383332069.py\u001b[0m in \u001b[0;36mbetting\u001b[1;34m(x, bets, players2)\u001b[0m\n\u001b[0;32m     21\u001b[0m         \u001b[0mx\u001b[0m\u001b[1;33m[\u001b[0m\u001b[1;34m'owed'\u001b[0m\u001b[1;33m]\u001b[0m \u001b[1;33m=\u001b[0m \u001b[1;36m0\u001b[0m\u001b[1;33m\u001b[0m\u001b[1;33m\u001b[0m\u001b[0m\n\u001b[0;32m     22\u001b[0m         \u001b[0mx\u001b[0m\u001b[1;33m[\u001b[0m\u001b[1;34m'contrib'\u001b[0m\u001b[1;33m]\u001b[0m \u001b[1;33m=\u001b[0m \u001b[1;36m0\u001b[0m\u001b[1;33m\u001b[0m\u001b[1;33m\u001b[0m\u001b[0m\n\u001b[1;32m---> 23\u001b[1;33m         \u001b[0mplayers2\u001b[0m\u001b[1;33m.\u001b[0m\u001b[0mremove\u001b[0m\u001b[1;33m(\u001b[0m\u001b[0mx\u001b[0m\u001b[1;33m)\u001b[0m\u001b[1;33m\u001b[0m\u001b[1;33m\u001b[0m\u001b[0m\n\u001b[0m\u001b[0;32m     24\u001b[0m     \u001b[1;32mif\u001b[0m \u001b[0my\u001b[0m \u001b[1;33m*\u001b[0m \u001b[1;36m0.75\u001b[0m \u001b[1;33m<=\u001b[0m \u001b[0mbets\u001b[0m \u001b[1;33m<=\u001b[0m \u001b[0my\u001b[0m\u001b[1;33m:\u001b[0m\u001b[1;33m\u001b[0m\u001b[1;33m\u001b[0m\u001b[0m\n\u001b[0;32m     25\u001b[0m         \u001b[0mprint\u001b[0m\u001b[1;33m(\u001b[0m\u001b[0mx\u001b[0m\u001b[1;33m[\u001b[0m\u001b[1;34m'name'\u001b[0m\u001b[1;33m]\u001b[0m \u001b[1;33m+\u001b[0m \u001b[1;34m': I call.'\u001b[0m\u001b[1;33m)\u001b[0m\u001b[1;33m\u001b[0m\u001b[1;33m\u001b[0m\u001b[0m\n",
      "\u001b[1;31mValueError\u001b[0m: list.remove(x): x not in list"
     ]
    }
   ],
   "source": [
    "globals()['bets'] = 500\n",
    "x = {'name': 'Jake', 'chips': 1000, 'contrib': 0, 'hand': (None, 3), 'cards': None, 'hthresh1': 4, 'hthresh2': 7, 'hthresh3': 9, 'rthresh1': 74, 'rthresh2': 185, \n",
    "     'rthresh3': 490, 'rthresh4': 997}\n",
    "\n",
    "betting(x, bets = 200)\n",
    "print(x)"
   ]
  },
  {
   "cell_type": "code",
   "execution_count": 8,
   "id": "630a2867-96d6-403f-af37-7b11b820b00e",
   "metadata": {},
   "outputs": [
    {
     "name": "stdout",
     "output_type": "stream",
     "text": [
      "False\n"
     ]
    }
   ],
   "source": [
    "x = randint(1,6)\n",
    "print(x == 1)"
   ]
  },
  {
   "cell_type": "code",
   "execution_count": 1,
   "id": "d7984da1-bdb5-46d2-a45d-47b0c7e5ffb3",
   "metadata": {},
   "outputs": [
    {
     "ename": "SyntaxError",
     "evalue": "invalid syntax (Temp/ipykernel_11884/2610130151.py, line 2)",
     "output_type": "error",
     "traceback": [
      "\u001b[1;36m  File \u001b[1;32m\"C:\\Users\\kv-ex\\AppData\\Local\\Temp/ipykernel_11884/2610130151.py\"\u001b[1;36m, line \u001b[1;32m2\u001b[0m\n\u001b[1;33m    global x = 1\u001b[0m\n\u001b[1;37m             ^\u001b[0m\n\u001b[1;31mSyntaxError\u001b[0m\u001b[1;31m:\u001b[0m invalid syntax\n"
     ]
    }
   ],
   "source": [
    "def func():\n",
    "    global x = 1\n",
    "func()\n",
    "print(x)"
   ]
  },
  {
   "cell_type": "code",
   "execution_count": 1,
   "id": "8c3c2ccf-e97f-446d-9ab3-09fb3a1ece0b",
   "metadata": {},
   "outputs": [
    {
     "data": {
      "text/plain": [
       "5"
      ]
     },
     "execution_count": 1,
     "metadata": {},
     "output_type": "execute_result"
    }
   ],
   "source": [
    "x = 5\n",
    "def changex(x = x):\n",
    "    x = 6\n",
    "changex()\n",
    "x"
   ]
  },
  {
   "cell_type": "code",
   "execution_count": 34,
   "id": "a7240cc8-0b96-4fbd-a688-4a9f86da615c",
   "metadata": {},
   "outputs": [
    {
     "data": {
      "text/plain": [
       "3"
      ]
     },
     "execution_count": 34,
     "metadata": {},
     "output_type": "execute_result"
    }
   ],
   "source": [
    "var = {'var1':1, 'var2':2}\n",
    "def c(x):\n",
    "    x['var1'] = 3\n",
    "c(var)\n",
    "var['var1']"
   ]
  },
  {
   "cell_type": "code",
   "execution_count": null,
   "id": "72097844-aab7-47fa-b123-8b00f3d389aa",
   "metadata": {},
   "outputs": [],
   "source": []
  }
 ],
 "metadata": {
  "kernelspec": {
   "display_name": "Python 3 (ipykernel)",
   "language": "python",
   "name": "python3"
  },
  "language_info": {
   "codemirror_mode": {
    "name": "ipython",
    "version": 3
   },
   "file_extension": ".py",
   "mimetype": "text/x-python",
   "name": "python",
   "nbconvert_exporter": "python",
   "pygments_lexer": "ipython3",
   "version": "3.8.12"
  }
 },
 "nbformat": 4,
 "nbformat_minor": 5
}
